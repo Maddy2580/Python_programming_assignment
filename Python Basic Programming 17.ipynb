{
 "cells": [
  {
   "cell_type": "markdown",
   "metadata": {
    "id": "BtfWxY25NHqJ"
   },
   "source": [
    "#Python Basic Programming 17"
   ]
  },
  {
   "cell_type": "markdown",
   "metadata": {
    "id": "1powEEhANU6g"
   },
   "source": [
    "> Q. Create a function that takes three arguments a, b, c and returns the sum of the\n",
    "numbers that are evenly divided by c from the range a, b inclusive.\n",
    "Examples\n",
    "evenly_divisible(1, 10, 20) ➞ 0\n",
    "No number between 1 and 10 can be evenly divided by 20.\n",
    "evenly_divisible(1, 10, 2) ➞ 30\n",
    "2 + 4 + 6 + 8 + 10 = 30\n",
    "evenly_divisible(1, 10, 3) ➞ 18\n",
    "3 + 6 + 9 = 18"
   ]
  },
  {
   "cell_type": "code",
   "execution_count": 1,
   "metadata": {},
   "outputs": [
    {
     "name": "stdout",
     "output_type": "stream",
     "text": [
      "enter the value of a:- 1\n",
      "enter the value of b:- 10\n",
      "enter the value of c:- 20\n",
      "0\n"
     ]
    }
   ],
   "source": [
    "def sum(a,b,c):\n",
    "    sum = 0\n",
    "    for i in range (a,b+1):\n",
    "        if i%c==0:\n",
    "            sum=sum+i\n",
    "    return sum\n",
    "\n",
    "a=int(input(\"enter the value of a:- \"))\n",
    "b=int(input(\"enter the value of b:- \"))\n",
    "c=int(input(\"enter the value of c:- \"))\n",
    "\n",
    "print(sum(a,b,c))"
   ]
  },
  {
   "cell_type": "markdown",
   "metadata": {
    "id": "UY3ePYvgNyjV"
   },
   "source": [
    "> Q. Create a function that returns True if a given inequality expression is correct and\n",
    "False otherwise.\n",
    "Examples\n",
    "correct_signs(\"3 > 7 < 11\") ➞ True\n",
    "correct_signs(\"13 > 44 > 33 > 1\") ➞ False\n",
    "correct_signs(\"1 < 2 < 6 < 9 > 3\") ➞ True"
   ]
  },
  {
   "cell_type": "code",
   "execution_count": 2,
   "metadata": {},
   "outputs": [
    {
     "name": "stdout",
     "output_type": "stream",
     "text": [
      "False\n",
      "False\n",
      "True\n"
     ]
    }
   ],
   "source": [
    "def signs(txt):\n",
    "    try:\n",
    "        result= eval(txt)\n",
    "        return result\n",
    "    except:\n",
    "        return False\n",
    "    \n",
    "print(signs(\"3 > 7 < 11\"))        \n",
    "print(signs(\"13 > 44 > 33 > 1\"))    \n",
    "print(signs(\"1 < 2 < 6 < 9 > 3\")) "
   ]
  },
  {
   "cell_type": "markdown",
   "metadata": {
    "id": "XUb_KjEeOHOF"
   },
   "source": [
    "> Q. Create a function that replaces all the vowels in a string with a specified character.\n",
    "Examples\n",
    "replace_vowels('the aardvark, '#') ➞ 'th# ##rdv#rk'\n",
    "replace_vowels('minnie mouse', '?') ➞ 'm?nn?? m??s?'\n",
    "replace_vowels('shakespeare', '*') ➞ 'sh*k*sp**r*'"
   ]
  },
  {
   "cell_type": "code",
   "execution_count": 4,
   "metadata": {},
   "outputs": [
    {
     "name": "stdout",
     "output_type": "stream",
     "text": [
      "enter the string:- the aardvark\n",
      "enter the vowel replacing string:- #\n",
      "\n",
      "the given string is:-  the aardvark\n",
      "given replacing charecter is:-  #\n",
      "the replaced string is:-  th# ##rdv#rk\n"
     ]
    }
   ],
   "source": [
    "def replace_vowels(str,s):\n",
    "    vowels = 'AEIOUaeiou'\n",
    "    for i in vowels:\n",
    "        str=str.replace(i,s)\n",
    "    return str\n",
    "\n",
    "input_str= input(\"enter the string:- \")\n",
    "s= input(\"enter the vowel replacing string:- \")\n",
    "\n",
    "print(\"\\nthe given string is:- \",input_str)\n",
    "print(\"given replacing charecter is:- \",s)\n",
    "print(\"the replaced string is:- \",replace_vowels(input_str,s))"
   ]
  },
  {
   "cell_type": "markdown",
   "metadata": {
    "id": "1GuMBuQKOl2q"
   },
   "source": [
    "> Q.Write a function that calculates the factorial of a number recursively.\n",
    "Examples\n",
    "factorial(5) ➞ 120\n",
    "factorial(3) ➞ 6\n",
    "factorial(1) ➞ 1\n",
    "factorial(0) ➞ 1\n"
   ]
  },
  {
   "cell_type": "code",
   "execution_count": 5,
   "metadata": {
    "colab": {
     "base_uri": "https://localhost:8080/"
    },
    "executionInfo": {
     "elapsed": 7293,
     "status": "ok",
     "timestamp": 1634222153629,
     "user": {
      "displayName": "Yuno Clover",
      "photoUrl": "https://lh3.googleusercontent.com/a/default-user=s64",
      "userId": "14793961318254159012"
     },
     "user_tz": -330
    },
    "id": "1cu10bwZOW2p",
    "outputId": "b17c02ad-55c7-4121-f3f9-f011d6e3e66f"
   },
   "outputs": [
    {
     "name": "stdout",
     "output_type": "stream",
     "text": [
      "enter a number :5\n",
      "Factorial of 5 is 120\n"
     ]
    }
   ],
   "source": [
    "def factorial(n):     \n",
    "    if n == 0:\n",
    "        return 1    \n",
    "    return n * factorial(n-1)\n",
    "\n",
    "num = int(input('enter a number :'))\n",
    "print(\"Factorial of\", num, \"is\", factorial(num))"
   ]
  },
  {
   "cell_type": "markdown",
   "metadata": {
    "id": "OCGIKG00O1G-"
   },
   "source": [
    ">Q. Hamming distance is the number of characters that differ between two strings.\n",
    "To illustrate:\n",
    "String1: 'abcbba'\n",
    "String2: 'abcbda'\n",
    "Hamming Distance: 1 - 'b' vs. 'd' is the only difference.\n",
    "Create a function that computes the hamming distance between two strings.\n",
    "Examples\n",
    "hamming_distance('abcde', 'bcdef') ➞ 5\n",
    "hamming_distance('abcde', 'abcde') ➞ 0\n",
    "hamming_distance('strong', 'strung') ➞ 1"
   ]
  },
  {
   "cell_type": "code",
   "execution_count": 7,
   "metadata": {},
   "outputs": [
    {
     "name": "stdout",
     "output_type": "stream",
     "text": [
      "5\n",
      "0\n",
      "1\n"
     ]
    }
   ],
   "source": [
    "def hamming_distance(str1, str2):\n",
    "    distance = 0\n",
    "    if len(str1) != len(str2):\n",
    "        print(\"Input strings must have the same length\")\n",
    "\n",
    "    for i in range(len(str1)):\n",
    "        if str1[i] != str2[i]:\n",
    "            distance += 1\n",
    "\n",
    "    return distance\n",
    "\n",
    "\n",
    "print(hamming_distance('abcde', 'bcdef'))   \n",
    "print(hamming_distance('abcde', 'abcde'))   \n",
    "print(hamming_distance('strong', 'strung')) \n"
   ]
  },
  {
   "cell_type": "code",
   "execution_count": null,
   "metadata": {
    "id": "69HQAicZPKLF"
   },
   "outputs": [],
   "source": []
  }
 ],
 "metadata": {
  "colab": {
   "authorship_tag": "ABX9TyMPnxXv1B2K18hLSH9k4uF3",
   "name": "Python Basic Programming 17.ipynb",
   "provenance": []
  },
  "kernelspec": {
   "display_name": "Python 3 (ipykernel)",
   "language": "python",
   "name": "python3"
  },
  "language_info": {
   "codemirror_mode": {
    "name": "ipython",
    "version": 3
   },
   "file_extension": ".py",
   "mimetype": "text/x-python",
   "name": "python",
   "nbconvert_exporter": "python",
   "pygments_lexer": "ipython3",
   "version": "3.10.8"
  }
 },
 "nbformat": 4,
 "nbformat_minor": 1
}
