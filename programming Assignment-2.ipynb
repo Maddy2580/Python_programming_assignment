{
 "cells": [
  {
   "cell_type": "code",
   "execution_count": 1,
   "id": "964c4093",
   "metadata": {},
   "outputs": [
    {
     "name": "stdout",
     "output_type": "stream",
     "text": [
      "Enter the distance in kilometers: 10\n",
      "Distance in miles: 6.21371\n"
     ]
    }
   ],
   "source": [
    "#1. Write a Python program to convert kilometers to miles?\n",
    "\n",
    "kilometers = float(input(\"Enter the distance in kilometers: \"))\n",
    "\n",
    "# Conversion factor\n",
    "conversion_factor = 0.621371\n",
    "\n",
    "# Convert kilometers to miles\n",
    "miles = kilometers * conversion_factor\n",
    "\n",
    "print(\"Distance in miles:\", miles)"
   ]
  },
  {
   "cell_type": "code",
   "execution_count": 2,
   "id": "ad71983a",
   "metadata": {},
   "outputs": [
    {
     "name": "stdout",
     "output_type": "stream",
     "text": [
      "Object `Fahrenheit` not found.\n",
      "Enter the temperature in Celsius: 37\n",
      "Temperature in Fahrenheit: 98.6\n"
     ]
    }
   ],
   "source": [
    "2. Write a Python program to convert Celsius to Fahrenheit?\n",
    "\n",
    "celsius = float(input(\"Enter the temperature in Celsius: \"))\n",
    "\n",
    "# Convert Celsius to Fahrenheit\n",
    "fahrenheit = (celsius * 9/5) + 32\n",
    "\n",
    "print(\"Temperature in Fahrenheit:\", fahrenheit)"
   ]
  },
  {
   "cell_type": "code",
   "execution_count": 4,
   "id": "4ca2f776",
   "metadata": {},
   "outputs": [
    {
     "name": "stdout",
     "output_type": "stream",
     "text": [
      "Enter the year: 1995\n",
      "Enter the month: 12\n",
      "   December 1995\n",
      "Mo Tu We Th Fr Sa Su\n",
      "             1  2  3\n",
      " 4  5  6  7  8  9 10\n",
      "11 12 13 14 15 16 17\n",
      "18 19 20 21 22 23 24\n",
      "25 26 27 28 29 30 31\n",
      "\n"
     ]
    }
   ],
   "source": [
    "#3. Write a Python program to display calendar?\n",
    "\n",
    "import calendar\n",
    "\n",
    "# Input year and month\n",
    "year = int(input(\"Enter the year: \"))\n",
    "month = int(input(\"Enter the month: \"))\n",
    "\n",
    "# Display the calendar\n",
    "print(calendar.month(year, month))"
   ]
  },
  {
   "cell_type": "code",
   "execution_count": 5,
   "id": "63983e8e",
   "metadata": {},
   "outputs": [
    {
     "name": "stdout",
     "output_type": "stream",
     "text": [
      "Enter coefficient a: 5\n",
      "Enter coefficient b: 4\n",
      "Enter coefficient c: 2\n",
      "Solution 1: (-0.4+0.4898979485566356j)\n",
      "Solution 2: (-0.4-0.4898979485566356j)\n"
     ]
    }
   ],
   "source": [
    "# 4. Write a Python program to solve quadratic equation?\n",
    "import cmath\n",
    "\n",
    "# Input coefficients\n",
    "a = float(input(\"Enter coefficient a: \"))\n",
    "b = float(input(\"Enter coefficient b: \"))\n",
    "c = float(input(\"Enter coefficient c: \"))\n",
    "\n",
    "# Calculate the discriminant\n",
    "discriminant = (b**2) - (4*a*c)\n",
    "\n",
    "# Calculate the solutions\n",
    "solution1 = (-b + cmath.sqrt(discriminant)) / (2*a)\n",
    "solution2 = (-b - cmath.sqrt(discriminant)) / (2*a)\n",
    "\n",
    "# Print the solutions\n",
    "print(\"Solution 1:\", solution1)\n",
    "print(\"Solution 2:\", solution2)"
   ]
  },
  {
   "cell_type": "code",
   "execution_count": 6,
   "id": "14983b37",
   "metadata": {},
   "outputs": [
    {
     "name": "stdout",
     "output_type": "stream",
     "text": [
      "Enter the first variable: 5\n",
      "Enter the second variable: 4\n",
      "Before swapping:\n",
      "Variable 1 = 5\n",
      "Variable 2 = 4\n",
      "After swapping:\n",
      "Variable 1 = 4\n",
      "Variable 2 = 5\n"
     ]
    }
   ],
   "source": [
    "# 5. Write a Python program to swap two variables without temp variable?\n",
    "\n",
    "var1 = input(\"Enter the first variable: \")\n",
    "var2 = input(\"Enter the second variable: \")\n",
    "\n",
    "print(\"Before swapping:\")\n",
    "print(\"Variable 1 =\", var1)\n",
    "print(\"Variable 2 =\", var2)\n",
    "\n",
    "# Swapping variables without a temporary variable\n",
    "var1, var2 = var2, var1\n",
    "\n",
    "print(\"After swapping:\")\n",
    "print(\"Variable 1 =\", var1)\n",
    "print(\"Variable 2 =\", var2)\n"
   ]
  },
  {
   "cell_type": "code",
   "execution_count": null,
   "id": "22355d75",
   "metadata": {},
   "outputs": [],
   "source": []
  }
 ],
 "metadata": {
  "kernelspec": {
   "display_name": "Python 3 (ipykernel)",
   "language": "python",
   "name": "python3"
  },
  "language_info": {
   "codemirror_mode": {
    "name": "ipython",
    "version": 3
   },
   "file_extension": ".py",
   "mimetype": "text/x-python",
   "name": "python",
   "nbconvert_exporter": "python",
   "pygments_lexer": "ipython3",
   "version": "3.10.8"
  }
 },
 "nbformat": 4,
 "nbformat_minor": 5
}
