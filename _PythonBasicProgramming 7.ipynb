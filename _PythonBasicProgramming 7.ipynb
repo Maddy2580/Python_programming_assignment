{
 "cells": [
  {
   "cell_type": "markdown",
   "metadata": {
    "id": "NF2aLcr4uq8v"
   },
   "source": [
    "# Python Basic Programming 7\n"
   ]
  },
  {
   "cell_type": "markdown",
   "metadata": {
    "id": "KHWUJ2w1uvbN"
   },
   "source": [
    "> Q. Write a Python Program to find sum of array?   "
   ]
  },
  {
   "cell_type": "code",
   "execution_count": 1,
   "metadata": {
    "colab": {
     "base_uri": "https://localhost:8080/"
    },
    "executionInfo": {
     "elapsed": 446,
     "status": "ok",
     "timestamp": 1627201048073,
     "user": {
      "displayName": "Yuno Clover",
      "photoUrl": "",
      "userId": "14793961318254159012"
     },
     "user_tz": -330
    },
    "id": "WhtTfRDRuoY-",
    "outputId": "f540e3f5-305a-44f6-cc37-0e91b8add45b"
   },
   "outputs": [
    {
     "name": "stdout",
     "output_type": "stream",
     "text": [
      "the sum of the array is 10\n"
     ]
    }
   ],
   "source": [
    "class sum_array:\n",
    "    def __init__(self,arr):\n",
    "        self.arr=arr\n",
    "        \n",
    "    def sum(self):\n",
    "        total = 0\n",
    "        for i in arr:\n",
    "            total=total+i\n",
    "        return total\n",
    "\n",
    "arr=[1,2,3,4]\n",
    "arr_sum_calculator=sum_array(arr)\n",
    "a= arr_sum_calculator.sum()\n",
    "print(f\"the sum of the array is {a}\")"
   ]
  },
  {
   "cell_type": "markdown",
   "metadata": {
    "id": "WTlzu9JEvKyf"
   },
   "source": [
    "> Q. Write a Python Program to find largest element in an array?"
   ]
  },
  {
   "cell_type": "code",
   "execution_count": 2,
   "metadata": {
    "colab": {
     "base_uri": "https://localhost:8080/"
    },
    "executionInfo": {
     "elapsed": 384,
     "status": "ok",
     "timestamp": 1627201498468,
     "user": {
      "displayName": "Yuno Clover",
      "photoUrl": "",
      "userId": "14793961318254159012"
     },
     "user_tz": -330
    },
    "id": "pXMdV3kuu6FO",
    "outputId": "910bb875-5211-41e1-a6a4-53542a467965"
   },
   "outputs": [
    {
     "name": "stdout",
     "output_type": "stream",
     "text": [
      "the largest elemnt in the arr is: 45\n"
     ]
    }
   ],
   "source": [
    "class largest_element:\n",
    "    def __init__(self,arr):\n",
    "        self.arr=arr\n",
    "        \n",
    "    def find(self):\n",
    "        a=0\n",
    "        for i in self.arr:\n",
    "            if i >a:\n",
    "                a=i\n",
    "        return i\n",
    "        \n",
    "arr=[1,4,8,9,45]\n",
    "a=largest_element(arr)\n",
    "output=a.find()\n",
    "print(f\"the largest elemnt in the arr is: {output}\") \n",
    "\n",
    "  "
   ]
  },
  {
   "cell_type": "markdown",
   "metadata": {
    "id": "JiLJWeXYxLPn"
   },
   "source": [
    "> Q. Write a Python Program for array rotation?"
   ]
  },
  {
   "cell_type": "code",
   "execution_count": 3,
   "metadata": {
    "colab": {
     "base_uri": "https://localhost:8080/"
    },
    "executionInfo": {
     "elapsed": 392,
     "status": "ok",
     "timestamp": 1627201664997,
     "user": {
      "displayName": "Yuno Clover",
      "photoUrl": "",
      "userId": "14793961318254159012"
     },
     "user_tz": -330
    },
    "id": "bhuUeChpvSlo",
    "outputId": "927f6127-eb28-4008-bc51-66414021cf4e"
   },
   "outputs": [
    {
     "name": "stdout",
     "output_type": "stream",
     "text": [
      "Enter array elements separated by spaces: 1 2 3 4 5\n",
      "Enter the number of positions to rotate: 2\n",
      "The rotated array is: [4, 5, 1, 2, 3]\n"
     ]
    }
   ],
   "source": [
    "class ArrayRotator:\n",
    "    def __init__(self, arr):\n",
    "        self.arr = arr\n",
    "\n",
    "    def rotate_right(self, positions):\n",
    "        n = len(self.arr)\n",
    "        positions %= n  # To handle cases where positions > n\n",
    "        rotated_arr = self.arr[-positions:] + self.arr[:-positions]\n",
    "        return rotated_arr\n",
    "\n",
    "# Take input from the user\n",
    "input_str = input(\"Enter array elements separated by spaces: \")\n",
    "input_list = [int(num) for num in input_str.split()]\n",
    "\n",
    "# Create an instance of the class and rotate the array\n",
    "rotator = ArrayRotator(input_list)\n",
    "num_positions = int(input(\"Enter the number of positions to rotate: \"))\n",
    "rotated_array = rotator.rotate_right(num_positions)\n",
    "print(f\"The rotated array is: {rotated_array}\")"
   ]
  },
  {
   "cell_type": "markdown",
   "metadata": {
    "id": "JkKh-7KCzsjf"
   },
   "source": [
    "> Q. Write a Python Program to Split the array and add the first part to the end?"
   ]
  },
  {
   "cell_type": "code",
   "execution_count": 4,
   "metadata": {
    "colab": {
     "base_uri": "https://localhost:8080/"
    },
    "executionInfo": {
     "elapsed": 9913,
     "status": "ok",
     "timestamp": 1627202366739,
     "user": {
      "displayName": "Yuno Clover",
      "photoUrl": "",
      "userId": "14793961318254159012"
     },
     "user_tz": -330
    },
    "id": "Oma8mFULzMfN",
    "outputId": "1eedd82e-5a15-45fd-82e1-c5aec23ce529"
   },
   "outputs": [
    {
     "name": "stdout",
     "output_type": "stream",
     "text": [
      "Enter array elements separated by spaces: 1 2 3 4 5 6\n",
      "Enter the index to split the array: 2\n",
      "The new array after splitting and adding is: [3, 4, 5, 6, 1, 2]\n"
     ]
    }
   ],
   "source": [
    "class ArraySplitter:\n",
    "    def __init__(self, arr):\n",
    "        self.arr = arr\n",
    "\n",
    "    def split_and_add(self, split_index):\n",
    "        n = len(self.arr)\n",
    "        split_index %= n  # To handle cases where split_index > n\n",
    "        split_part = self.arr[:split_index]\n",
    "        remaining_part = self.arr[split_index:]\n",
    "        new_array = remaining_part + split_part\n",
    "        return new_array\n",
    "\n",
    "# Take input from the user\n",
    "input_str = input(\"Enter array elements separated by spaces: \")\n",
    "input_list = [int(num) for num in input_str.split()]\n",
    "\n",
    "# Create an instance of the class and split-add the array\n",
    "splitter = ArraySplitter(input_list)\n",
    "split_index = int(input(\"Enter the index to split the array: \"))\n",
    "new_array = splitter.split_and_add(split_index)\n",
    "print(f\"The new array after splitting and adding is: {new_array}\")"
   ]
  },
  {
   "cell_type": "markdown",
   "metadata": {
    "id": "NzO0cQIb0cMS"
   },
   "source": [
    "> Q. Write a Python Program to check if given array is Monotonic?"
   ]
  },
  {
   "cell_type": "code",
   "execution_count": 5,
   "metadata": {
    "colab": {
     "base_uri": "https://localhost:8080/"
    },
    "executionInfo": {
     "elapsed": 8730,
     "status": "ok",
     "timestamp": 1627202588860,
     "user": {
      "displayName": "Yuno Clover",
      "photoUrl": "",
      "userId": "14793961318254159012"
     },
     "user_tz": -330
    },
    "id": "tN0etPTC0QtP",
    "outputId": "b57d8a5c-319c-411d-be66-b674c9f4b894"
   },
   "outputs": [
    {
     "name": "stdout",
     "output_type": "stream",
     "text": [
      "Enter the lenth of your list : 5\n",
      "2\n",
      "5\n",
      "8\n",
      "9\n",
      "5\n",
      "The List is  [2, 5, 8, 9, 5]\n",
      "Not Monotonic\n"
     ]
    }
   ],
   "source": [
    "l = int(input(\"Enter the lenth of your list : \"))\n",
    "arr = []\n",
    "\n",
    "for i in range(l):\n",
    "    arr.append(int(input()))\n",
    "print(\"The List is \",arr)\n",
    "\n",
    "if all((arr[i] <= arr[i+1] for i in range(l-1)) or (arr[i] >= lst[i+1] for i in range(l-1))):\n",
    "    print(\"Monotonic\")\n",
    "else:\n",
    "    print(\"Not Monotonic\")"
   ]
  },
  {
   "cell_type": "code",
   "execution_count": null,
   "metadata": {
    "id": "4kj3io6j1F5O"
   },
   "outputs": [],
   "source": []
  }
 ],
 "metadata": {
  "colab": {
   "authorship_tag": "ABX9TyN32v6wHj+V2jrFRO1sRTOO",
   "collapsed_sections": [],
   "name": " PythonBasicProgramming 7.ipynb",
   "provenance": []
  },
  "kernelspec": {
   "display_name": "Python 3 (ipykernel)",
   "language": "python",
   "name": "python3"
  },
  "language_info": {
   "codemirror_mode": {
    "name": "ipython",
    "version": 3
   },
   "file_extension": ".py",
   "mimetype": "text/x-python",
   "name": "python",
   "nbconvert_exporter": "python",
   "pygments_lexer": "ipython3",
   "version": "3.10.8"
  }
 },
 "nbformat": 4,
 "nbformat_minor": 1
}
