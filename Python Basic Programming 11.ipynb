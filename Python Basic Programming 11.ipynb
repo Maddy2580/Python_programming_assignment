{
 "cells": [
  {
   "cell_type": "markdown",
   "metadata": {
    "id": "yMSBWj1rBXcx"
   },
   "source": [
    "# Python Basic Programming 11\n",
    "\n",
    "\n"
   ]
  },
  {
   "cell_type": "markdown",
   "metadata": {
    "id": "tQ15k0sgBlOU"
   },
   "source": [
    "> Q. Write a Python program to find words which are greater than given length k?"
   ]
  },
  {
   "cell_type": "code",
   "execution_count": 1,
   "metadata": {},
   "outputs": [
    {
     "name": "stdout",
     "output_type": "stream",
     "text": [
      "enter the string:- my name is madhu\n",
      "enter the length:- 3\n",
      "words with length greater than 3 is:- ['name', 'madhu']\n"
     ]
    }
   ],
   "source": [
    "def bigger(k,str):\n",
    "    txt=str.split()\n",
    "    words=[]\n",
    "    for i in txt:\n",
    "        if len(i)>k:\n",
    "            words.append(i)\n",
    "    return words    \n",
    "    \n",
    "str=input(\"enter the string:- \")\n",
    "k=int(input(\"enter the length:- \"))\n",
    "a=bigger(k,str)\n",
    "print(f\"words with length greater than {k} is:- {a}\")\n"
   ]
  },
  {
   "cell_type": "markdown",
   "metadata": {
    "id": "c9DrdFsADYtH"
   },
   "source": [
    "> Q.Write a Python program for removing i-th character from a string?"
   ]
  },
  {
   "cell_type": "code",
   "execution_count": 2,
   "metadata": {},
   "outputs": [
    {
     "name": "stdout",
     "output_type": "stream",
     "text": [
      "enter the string:- madhu\n",
      "enter the pointer:- 2\n",
      "the new string is mahu\n"
     ]
    }
   ],
   "source": [
    "def remove(k,str):\n",
    "    b= len(str)\n",
    "    if k>b:\n",
    "        print(\"enter a valid point\")\n",
    "    else:\n",
    "        for i in range(len(str)):\n",
    "            if i==k:\n",
    "                str = str[:i] + str[i+1:]\n",
    "        return str\n",
    "\n",
    "str=input(\"enter the string:- \")\n",
    "k=int(input(\"enter the pointer:- \"))\n",
    "a=remove(k,str)\n",
    "print(f\"the new string is {a}\")"
   ]
  },
  {
   "cell_type": "markdown",
   "metadata": {
    "id": "ItvsHBQVDue-"
   },
   "source": [
    "> Q.Write a Python program to split and join a string?"
   ]
  },
  {
   "cell_type": "code",
   "execution_count": 3,
   "metadata": {},
   "outputs": [
    {
     "name": "stdout",
     "output_type": "stream",
     "text": [
      "enter the string:- my name is madhu\n",
      "the new string is: my-name-is-madhu\n"
     ]
    }
   ],
   "source": [
    "def split_join(str):\n",
    "    a=str.split()\n",
    "    b=\"-\".join(a)\n",
    "    return b\n",
    "\n",
    "str=input(\"enter the string:- \")\n",
    "c=split_join(str)\n",
    "print(f\"the new string is: {c}\")"
   ]
  },
  {
   "cell_type": "markdown",
   "metadata": {
    "id": "ah0VuAYKEOgB"
   },
   "source": [
    "> Q. Write a Python to check if a given string is binary string or not?"
   ]
  },
  {
   "cell_type": "code",
   "execution_count": 4,
   "metadata": {
    "colab": {
     "base_uri": "https://localhost:8080/"
    },
    "executionInfo": {
     "elapsed": 5272,
     "status": "ok",
     "timestamp": 1633363819006,
     "user": {
      "displayName": "Yuno Asta",
      "photoUrl": "https://lh3.googleusercontent.com/a/default-user=s64",
      "userId": "00278101329128448900"
     },
     "user_tz": -330
    },
    "id": "kohc01RuD6LO",
    "outputId": "81026679-b1bd-49f9-9736-40435a34e7ae"
   },
   "outputs": [
    {
     "name": "stdout",
     "output_type": "stream",
     "text": [
      "Enter the string : 10101025\n",
      "Not Binary\n"
     ]
    }
   ],
   "source": [
    "def ifbinary(str):\n",
    "    binary = '01'\n",
    "    for i in range(len(str)):\n",
    "        if str[i] not in binary:\n",
    "            print('Not Binary')\n",
    "            break\n",
    "    else:\n",
    "        print('Binary')\n",
    "        \n",
    "str = input(\"Enter the string : \")\n",
    "ifbinary(str)"
   ]
  },
  {
   "cell_type": "markdown",
   "metadata": {
    "id": "pmL5FQW0Eij7"
   },
   "source": [
    "> Q. Write a Python program to find uncommon words from two Strings?"
   ]
  },
  {
   "cell_type": "code",
   "execution_count": 5,
   "metadata": {},
   "outputs": [
    {
     "name": "stdout",
     "output_type": "stream",
     "text": [
      "enter the string:- my name is madhu\n",
      "enter the string:- my name is saswat\n",
      "the not common wwords in the two strings are:  madhu saswat \n"
     ]
    }
   ],
   "source": [
    "def uncomm(a,b):\n",
    "    list1=a.split()\n",
    "    list2=b.split()\n",
    "    notcom = ''\n",
    "    for i in list1:\n",
    "        if i not in list2:\n",
    "            notcom = notcom +\" \"+i\n",
    "    for j in list2:\n",
    "        if j not in list1:\n",
    "            notcom = notcom +\" \"+j\n",
    "    return notcom\n",
    "\n",
    "a=input(\"enter the string:- \")\n",
    "b=input(\"enter the string:- \")\n",
    "c=uncomm(a,b)\n",
    "print(f\"the not common wwords in the two strings are: {c} \")"
   ]
  },
  {
   "cell_type": "markdown",
   "metadata": {
    "id": "d_j2XtUVG2lV"
   },
   "source": [
    "> Q.Write a Python to find all duplicate characters in string?"
   ]
  },
  {
   "cell_type": "code",
   "execution_count": 6,
   "metadata": {},
   "outputs": [
    {
     "name": "stdout",
     "output_type": "stream",
     "text": [
      "enter the string: -mmddyyyy\n",
      "the duplicate charecters are :- ['m', 'd', 'y']\n"
     ]
    }
   ],
   "source": [
    "def duplicate(str):\n",
    "    duplicate=[]\n",
    "    for i in str:\n",
    "        if str.count(i)>1:\n",
    "            if i not in duplicate:\n",
    "                duplicate.append(i)\n",
    "    return duplicate\n",
    "\n",
    "str=input(\"enter the string: -\").lower()\n",
    "a=duplicate(str)\n",
    "print(f\"the duplicate charecters are :- {a}\")"
   ]
  },
  {
   "cell_type": "markdown",
   "metadata": {
    "id": "po1YVR0bISs9"
   },
   "source": [
    "> Q.Write a Python Program to check if a string contains any special character?"
   ]
  },
  {
   "cell_type": "code",
   "execution_count": 7,
   "metadata": {
    "colab": {
     "base_uri": "https://localhost:8080/"
    },
    "executionInfo": {
     "elapsed": 9666,
     "status": "ok",
     "timestamp": 1633366717929,
     "user": {
      "displayName": "Yuno Asta",
      "photoUrl": "https://lh3.googleusercontent.com/a/default-user=s64",
      "userId": "00278101329128448900"
     },
     "user_tz": -330
    },
    "id": "kbZot_E2IMlc",
    "outputId": "de42fb7a-6f44-4c24-e3bf-ab7534759090"
   },
   "outputs": [
    {
     "name": "stdout",
     "output_type": "stream",
     "text": [
      "Enter the string a : i am $#%&^*\n",
      "String i am $#%&^* has special charecter/s : ['$', '#', '%', '&', '^', '*']\n"
     ]
    }
   ],
   "source": [
    "import string\n",
    "\n",
    "str_char = string.punctuation\n",
    "speci_str = []\n",
    "\n",
    "str = input(\"Enter the string a : \").lower()\n",
    "for i in str:\n",
    "    if i in str_char:\n",
    "        speci_str.append(i)\n",
    "if len(speci_str) > 0:\n",
    "    print(\"String {} has special charecter/s : {}\".format(str,speci_str))\n"
   ]
  },
  {
   "cell_type": "code",
   "execution_count": null,
   "metadata": {
    "id": "EJ5tIgFtPg2m"
   },
   "outputs": [],
   "source": []
  }
 ],
 "metadata": {
  "colab": {
   "authorship_tag": "ABX9TyOoG1HyUFbozfFF8jM8gOdZ",
   "name": "Python Basic Programming 11.ipynb",
   "provenance": []
  },
  "kernelspec": {
   "display_name": "Python 3 (ipykernel)",
   "language": "python",
   "name": "python3"
  },
  "language_info": {
   "codemirror_mode": {
    "name": "ipython",
    "version": 3
   },
   "file_extension": ".py",
   "mimetype": "text/x-python",
   "name": "python",
   "nbconvert_exporter": "python",
   "pygments_lexer": "ipython3",
   "version": "3.10.8"
  }
 },
 "nbformat": 4,
 "nbformat_minor": 1
}
