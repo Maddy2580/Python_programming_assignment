{
 "cells": [
  {
   "cell_type": "markdown",
   "metadata": {
    "id": "F4EpuLZYQXWI"
   },
   "source": [
    "# Python Basic Programming 22"
   ]
  },
  {
   "cell_type": "markdown",
   "metadata": {
    "id": "qOlqyzPJRPze"
   },
   "source": [
    ">Q. Create a function that takes three parameters where:\n",
    " x is the start of the range (inclusive).\n",
    " y is the end of the range (inclusive).\n",
    " n is the divisor to be checked against.\n",
    "Return an ordered list with numbers in the range that are divisible by the third parameter n.\n",
    "Return an empty list if there are no numbers that are divisible by n.\n",
    "Examples\n",
    "list_operation(1, 10, 3) ➞ [3, 6, 9]\n",
    "list_operation(7, 9, 2) ➞ [8]\n",
    "list_operation(15, 20, 7) ➞ []\n"
   ]
  },
  {
   "cell_type": "code",
   "execution_count": 2,
   "metadata": {},
   "outputs": [
    {
     "name": "stdout",
     "output_type": "stream",
     "text": [
      "[3, 6, 9]\n",
      "[8]\n",
      "[]\n"
     ]
    }
   ],
   "source": [
    "def list_operation(x,y,n):\n",
    "    a=[]\n",
    "    for i in range(x,y+1):\n",
    "        if i%n==0:\n",
    "            a.append(i)\n",
    "    return a\n",
    "\n",
    "print(list_operation(1, 10, 3))\n",
    "print(list_operation(7, 9, 2))\n",
    "print(list_operation(15, 20, 7))"
   ]
  },
  {
   "cell_type": "markdown",
   "metadata": {
    "id": "BUIkxvptRreD"
   },
   "source": [
    "> Q. Create a function that takes in two lists and returns True if the second list follows the first list\n",
    "by one element, and False otherwise. In other words, determine if the second list is the first\n",
    "list shifted to the right by 1.\n",
    "Examples\n",
    "simon_says([1, 2], [5, 1]) ➞ True\n",
    "simon_says([1, 2], [5, 5]) ➞ False\n",
    "simon_says([1, 2, 3, 4, 5], [0, 1, 2, 3, 4]) ➞ True\n",
    "simon_says([1, 2, 3, 4, 5], [5, 5, 1, 2, 3]) ➞ False\n",
    "Notes\n",
    " Both input lists will be of the same length, and will have a minimum length of 2.\n",
    " The values of the 0-indexed element in the second list and the n-1th indexed element\n",
    "in the first list do not matter."
   ]
  },
  {
   "cell_type": "code",
   "execution_count": 5,
   "metadata": {
    "executionInfo": {
     "elapsed": 413,
     "status": "ok",
     "timestamp": 1634457820966,
     "user": {
      "displayName": "Yuno Clover",
      "photoUrl": "https://lh3.googleusercontent.com/a/default-user=s64",
      "userId": "14793961318254159012"
     },
     "user_tz": -330
    },
    "id": "il7MT92hRlvh"
   },
   "outputs": [
    {
     "name": "stdout",
     "output_type": "stream",
     "text": [
      "True\n",
      "False\n",
      "True\n",
      "False\n"
     ]
    }
   ],
   "source": [
    "def simon_says(list1, list2):\n",
    "    return list1[:-1] == list2[1:]\n",
    "\n",
    "# Test cases\n",
    "print(simon_says([1, 2], [5, 1]))\n",
    "print(simon_says([1, 2], [5, 5]))\n",
    "print(simon_says([1, 2, 3, 4, 5], [0, 1, 2, 3, 4]))\n",
    "print(simon_says([1, 2, 3, 4, 5], [5,5, 1, 2, 3]))\n"
   ]
  },
  {
   "cell_type": "markdown",
   "metadata": {
    "id": "FfR3imVcR6A4"
   },
   "source": [
    "> Q. A group of friends have decided to start a secret society. The name will be the first letter of\n",
    "each of their names, sorted in alphabetical order.\n",
    "Create a function that takes in a list of names and returns the name of the secret society.\n",
    "\n",
    "Examples\n",
    "society_name(['Adam', 'Sarah', 'Malcolm']) ➞ 'AMS'\n",
    "society_name(['Harry', 'Newt', 'Luna', 'Cho']) ➞ 'CHLN'\n",
    "society_name(['Phoebe', 'Chandler', 'Rachel', 'Ross', 'Monica', 'Joey'])"
   ]
  },
  {
   "cell_type": "code",
   "execution_count": 8,
   "metadata": {
    "executionInfo": {
     "elapsed": 415,
     "status": "ok",
     "timestamp": 1634457868492,
     "user": {
      "displayName": "Yuno Clover",
      "photoUrl": "https://lh3.googleusercontent.com/a/default-user=s64",
      "userId": "14793961318254159012"
     },
     "user_tz": -330
    },
    "id": "A8L-x-kNR33V"
   },
   "outputs": [],
   "source": [
    "\n",
    "def society_name(lst):\n",
    "    return ''.join([i[0] for i in sorted(lst)])"
   ]
  },
  {
   "cell_type": "code",
   "execution_count": 10,
   "metadata": {},
   "outputs": [
    {
     "name": "stdout",
     "output_type": "stream",
     "text": [
      "AMS\n",
      "CHLN\n",
      "CJMPRR\n"
     ]
    }
   ],
   "source": [
    "def society_name(lst):\n",
    "    return \"\".join([i[0]for i in sorted(lst)])\n",
    "\n",
    "print(society_name(['Adam', 'Sarah', 'Malcolm']))\n",
    "print(society_name(['Harry', 'Newt', 'Luna', 'Cho']))\n",
    "print(society_name(['Phoebe', 'Chandler', 'Rachel', 'Ross', 'Monica', 'Joey']))"
   ]
  },
  {
   "cell_type": "markdown",
   "metadata": {
    "id": "8MhGpJBnSE0V"
   },
   "source": [
    "> Q. An isogram is a word that has no duplicate letters. Create a function that takes a string and\n",
    "returns either True or False depending on whether or not it's an 'isogram'.\n",
    "Examples\n",
    "is_isogram('Algorism') ➞ True\n",
    "is_isogram('PasSword') ➞ False\n",
    "Not case sensitive.\n",
    "is_isogram('Consecutive') ➞ False\n",
    "Notes\n",
    " Ignore letter case (should not be case sensitive).\n",
    " All test cases contain valid one word strings."
   ]
  },
  {
   "cell_type": "code",
   "execution_count": 11,
   "metadata": {
    "executionInfo": {
     "elapsed": 421,
     "status": "ok",
     "timestamp": 1634457913774,
     "user": {
      "displayName": "Yuno Clover",
      "photoUrl": "https://lh3.googleusercontent.com/a/default-user=s64",
      "userId": "14793961318254159012"
     },
     "user_tz": -330
    },
    "id": "0S4ebJFDSBlR"
   },
   "outputs": [
    {
     "name": "stdout",
     "output_type": "stream",
     "text": [
      "True\n",
      "False\n",
      "False\n"
     ]
    }
   ],
   "source": [
    "def is_isogram(s):\n",
    "    s=s.lower()\n",
    "    return len(s)==len(set(s))\n",
    "\n",
    "print(is_isogram('Algorism'))\n",
    "print(is_isogram('PasSword'))\n",
    "print(is_isogram('Consecutive'))"
   ]
  },
  {
   "cell_type": "markdown",
   "metadata": {
    "id": "gD30B7k0SOtw"
   },
   "source": [
    "> Q. Create a function that takes a string and returns True or False, depending on whether the\n",
    "characters are in order or not.\n",
    "Examples\n",
    "is_in_order('abc') ➞ True\n",
    "is_in_order('edabit') ➞ False\n",
    "is_in_order('123') ➞ True\n",
    "is_in_order('xyzz') ➞ True\n",
    "Notes\n",
    "You don't have to handle empty strings."
   ]
  },
  {
   "cell_type": "code",
   "execution_count": 15,
   "metadata": {
    "executionInfo": {
     "elapsed": 420,
     "status": "ok",
     "timestamp": 1634457966325,
     "user": {
      "displayName": "Yuno Clover",
      "photoUrl": "https://lh3.googleusercontent.com/a/default-user=s64",
      "userId": "14793961318254159012"
     },
     "user_tz": -330
    },
    "id": "MvD7dky_SMHE"
   },
   "outputs": [
    {
     "name": "stdout",
     "output_type": "stream",
     "text": [
      "True\n",
      "False\n",
      "True\n",
      "True\n"
     ]
    }
   ],
   "source": [
    "def is_in_order(s):\n",
    "    \n",
    "    return s == ''.join(sorted(s))\n",
    "\n",
    "\n",
    "print(is_in_order('abc'))\n",
    "print(is_in_order('edabit'))\n",
    "print(is_in_order('123'))\n",
    "print(is_in_order('xyzz'))\n"
   ]
  },
  {
   "cell_type": "code",
   "execution_count": null,
   "metadata": {
    "id": "JIFpFXiuSbVT"
   },
   "outputs": [],
   "source": []
  }
 ],
 "metadata": {
  "colab": {
   "authorship_tag": "ABX9TyMXzdRoEK/6LKU+DccV+1GL",
   "collapsed_sections": [],
   "name": "Python Basic Programming 22.ipynb",
   "provenance": []
  },
  "kernelspec": {
   "display_name": "Python 3 (ipykernel)",
   "language": "python",
   "name": "python3"
  },
  "language_info": {
   "codemirror_mode": {
    "name": "ipython",
    "version": 3
   },
   "file_extension": ".py",
   "mimetype": "text/x-python",
   "name": "python",
   "nbconvert_exporter": "python",
   "pygments_lexer": "ipython3",
   "version": "3.10.8"
  }
 },
 "nbformat": 4,
 "nbformat_minor": 1
}
