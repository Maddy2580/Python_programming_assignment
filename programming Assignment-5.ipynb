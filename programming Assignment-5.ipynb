{
 "cells": [
  {
   "cell_type": "code",
   "execution_count": 2,
   "id": "35d440fd",
   "metadata": {},
   "outputs": [
    {
     "name": "stdout",
     "output_type": "stream",
     "text": [
      "Enter the first number: 3\n",
      "Enter the second number: 5\n",
      "The LCM of 3 and 5 is 15\n"
     ]
    }
   ],
   "source": [
    "#1. Write a Python Program to Find LCM?\n",
    "\n",
    "def find_lcm(a, b):\n",
    "    \"\"\"Function to find the LCM of two numbers\"\"\"\n",
    "    # Find the greater number\n",
    "    if a > b:\n",
    "        greater = a\n",
    "    else:\n",
    "        greater = b\n",
    "    \n",
    "    while True:\n",
    "        if greater % a == 0 and greater % b == 0:\n",
    "            lcm = greater\n",
    "            break\n",
    "        greater += 1\n",
    "\n",
    "    return lcm\n",
    "\n",
    "# Get input from the user\n",
    "num1 = int(input(\"Enter the first number: \"))\n",
    "num2 = int(input(\"Enter the second number: \"))\n",
    "\n",
    "# Call the function to find the LCM\n",
    "lcm = find_lcm(num1, num2)\n",
    "\n",
    "# Print the result\n",
    "print(\"The LCM of\", num1, \"and\", num2, \"is\", lcm)\n",
    "\n"
   ]
  },
  {
   "cell_type": "code",
   "execution_count": 3,
   "id": "61c839ef",
   "metadata": {},
   "outputs": [
    {
     "name": "stdout",
     "output_type": "stream",
     "text": [
      "Enter the first number: 1\n",
      "Enter the second number: 3\n",
      "The HCF of 1 and 3 is 1\n"
     ]
    }
   ],
   "source": [
    "#2. Write a Python Program to Find HCF?\n",
    "\n",
    "def find_hcf(a, b):\n",
    "    \"\"\"Function to find the HCF of two numbers\"\"\"\n",
    "    while b != 0:\n",
    "        a, b = b, a % b\n",
    "    return a\n",
    "\n",
    "# Get input from the user\n",
    "num1 = int(input(\"Enter the first number: \"))\n",
    "num2 = int(input(\"Enter the second number: \"))\n",
    "\n",
    "# Call the function to find the HCF\n",
    "hcf = find_hcf(num1, num2)\n",
    "\n",
    "# Print the result\n",
    "print(\"The HCF of\", num1, \"and\", num2, \"is\", hcf)\n"
   ]
  },
  {
   "cell_type": "code",
   "execution_count": 4,
   "id": "a4dff53e",
   "metadata": {},
   "outputs": [
    {
     "name": "stdout",
     "output_type": "stream",
     "text": [
      "Enter a decimal number: 192\n",
      "Binary representation: 11000000\n",
      "Octal representation: 300\n",
      "Hexadecimal representation: c0\n"
     ]
    }
   ],
   "source": [
    "#3. Write a Python Program to Convert Decimal to Binary, Octal and Hexadecimal?\n",
    "\n",
    "def decimal_to_binary(decimal):\n",
    "    \"\"\"Function to convert decimal to binary\"\"\"\n",
    "    return bin(decimal).replace(\"0b\", \"\")\n",
    "\n",
    "def decimal_to_octal(decimal):\n",
    "    \"\"\"Function to convert decimal to octal\"\"\"\n",
    "    return oct(decimal).replace(\"0o\", \"\")\n",
    "\n",
    "def decimal_to_hexadecimal(decimal):\n",
    "    \"\"\"Function to convert decimal to hexadecimal\"\"\"\n",
    "    return hex(decimal).replace(\"0x\", \"\")\n",
    "\n",
    "# Get input from the user\n",
    "decimal = int(input(\"Enter a decimal number: \"))\n",
    "\n",
    "# Convert decimal to binary, octal, and hexadecimal\n",
    "binary = decimal_to_binary(decimal)\n",
    "octal = decimal_to_octal(decimal)\n",
    "hexadecimal = decimal_to_hexadecimal(decimal)\n",
    "\n",
    "# Print the results\n",
    "print(\"Binary representation:\", binary)\n",
    "print(\"Octal representation:\", octal)\n",
    "print(\"Hexadecimal representation:\", hexadecimal)\n",
    "\n"
   ]
  },
  {
   "cell_type": "code",
   "execution_count": 5,
   "id": "cde076a5",
   "metadata": {},
   "outputs": [
    {
     "name": "stdout",
     "output_type": "stream",
     "text": [
      "Enter a character: B\n",
      "The ASCII value of B is 66\n"
     ]
    }
   ],
   "source": [
    "# 4.Write a Python Program To Find ASCII value of a character?\n",
    "\n",
    "character = input(\"Enter a character: \")\n",
    "\n",
    "# Convert the character to ASCII value\n",
    "ascii_value = ord(character)\n",
    "\n",
    "# Print the result\n",
    "print(\"The ASCII value of\", character, \"is\", ascii_value)\n",
    "\n"
   ]
  },
  {
   "cell_type": "code",
   "execution_count": 6,
   "id": "e0b89bb6",
   "metadata": {},
   "outputs": [
    {
     "name": "stdout",
     "output_type": "stream",
     "text": [
      "Enter the first number: 10\n",
      "Enter the second number: 5\n",
      "Sum: 15.0\n",
      "Difference: 5.0\n",
      "Product: 50.0\n",
      "Quotient: 2.0\n"
     ]
    }
   ],
   "source": [
    "# 5.Write a Python Program to Make a Simple Calculator with 4 basic mathematical operations?\n",
    "\n",
    "def add(a, b):\n",
    "    \"\"\"Function to perform addition\"\"\"\n",
    "    return a + b\n",
    "\n",
    "def subtract(a, b):\n",
    "    \"\"\"Function to perform subtraction\"\"\"\n",
    "    return a - b\n",
    "\n",
    "def multiply(a, b):\n",
    "    \"\"\"Function to perform multiplication\"\"\"\n",
    "    return a * b\n",
    "\n",
    "def divide(a, b):\n",
    "    \"\"\"Function to perform division\"\"\"\n",
    "    return a / b\n",
    "\n",
    "# Get input from the user\n",
    "num1 = float(input(\"Enter the first number: \"))\n",
    "num2 = float(input(\"Enter the second number: \"))\n",
    "\n",
    "# Perform calculations\n",
    "sum_result = add(num1, num2)\n",
    "diff_result = subtract(num1, num2)\n",
    "product_result = multiply(num1, num2)\n",
    "quotient_result = divide(num1, num2)\n",
    "\n",
    "# Print the results\n",
    "print(\"Sum:\", sum_result)\n",
    "print(\"Difference:\", diff_result)\n",
    "print(\"Product:\", product_result)\n",
    "print(\"Quotient:\", quotient_result)\n"
   ]
  },
  {
   "cell_type": "code",
   "execution_count": null,
   "id": "c8fdf666",
   "metadata": {},
   "outputs": [],
   "source": []
  }
 ],
 "metadata": {
  "kernelspec": {
   "display_name": "Python 3 (ipykernel)",
   "language": "python",
   "name": "python3"
  },
  "language_info": {
   "codemirror_mode": {
    "name": "ipython",
    "version": 3
   },
   "file_extension": ".py",
   "mimetype": "text/x-python",
   "name": "python",
   "nbconvert_exporter": "python",
   "pygments_lexer": "ipython3",
   "version": "3.10.8"
  }
 },
 "nbformat": 4,
 "nbformat_minor": 5
}
