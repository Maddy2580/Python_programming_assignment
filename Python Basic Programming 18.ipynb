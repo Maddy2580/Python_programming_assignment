{
 "cells": [
  {
   "cell_type": "markdown",
   "metadata": {
    "id": "Ftn9zOqDPhCh"
   },
   "source": [
    "#Python Basic Programming 18"
   ]
  },
  {
   "cell_type": "markdown",
   "metadata": {
    "id": "gKRX62LAPmcR"
   },
   "source": [
    ">Q. Create a function that takes a list of non-negative integers and strings and return a new list\n",
    "without the strings.\n",
    "Examples\n",
    "filter_list([1, 2, 'a', 'b']) ➞ [1, 2]\n",
    "filter_list([1, 'a', 'b', 0, 15]) ➞ [1, 0, 15]\n",
    "filter_list([1, 2, 'aasf', '1', '123', 123]) ➞ [1, 2, 123]"
   ]
  },
  {
   "cell_type": "code",
   "execution_count": 3,
   "metadata": {},
   "outputs": [
    {
     "name": "stdout",
     "output_type": "stream",
     "text": [
      "[1, 2]\n"
     ]
    }
   ],
   "source": [
    "def filter_list(l):\n",
    "    list=[]\n",
    "    for i in l:\n",
    "        if type(i)==int and i:\n",
    "            list.append(i)\n",
    "    return list\n",
    "\n",
    "l = [1,2,'a','b']\n",
    "print(filter_list(l))"
   ]
  },
  {
   "cell_type": "markdown",
   "metadata": {
    "id": "LgzUZkWtPww7"
   },
   "source": [
    "> Q. The 'Reverser' takes a string as input and returns that string in reverse order, with the\n",
    "opposite case.\n",
    "Examples\n",
    "reverse('Hello World') ➞ 'DLROw OLLEh'\n",
    "reverse('ReVeRsE') ➞ 'eSrEvEr'\n",
    "reverse('Radar') ➞ 'RADAr'"
   ]
  },
  {
   "cell_type": "code",
   "execution_count": 6,
   "metadata": {},
   "outputs": [
    {
     "name": "stdout",
     "output_type": "stream",
     "text": [
      "enter the string:- Hello World\n",
      "DLROw OLLEh\n"
     ]
    }
   ],
   "source": [
    "def reverser(s):\n",
    "    reversed_s = s[::-1]\n",
    "    swapped_case_s = reversed_s.swapcase()\n",
    "    return swapped_case_s\n",
    "\n",
    "a=input(\"enter the string:- \")\n",
    "result = reverser(a)\n",
    "print(result)\n"
   ]
  },
  {
   "cell_type": "markdown",
   "metadata": {
    "id": "zIvDhSnrP4sN"
   },
   "source": [
    "> Q. You can assign variables from lists like this:\n",
    "lst = [1, 2, 3, 4, 5, 6]\n",
    "first = lst[0]\n",
    "middle = lst[1:-1]\n",
    "last = lst[-1]\n",
    "print(first) ➞ outputs 1\n",
    "print(middle) ➞ outputs [2, 3, 4, 5]\n",
    "print(last) ➞ outputs 6\n",
    "With Python 3, you can assign variables from lists in a much more succinct way. Create\n",
    "variables first, middle and last from the given list using destructuring assignment\n",
    "(check the Resources tab for some examples), where:\n",
    "first ➞ 1\n",
    "middle ➞ [2, 3, 4, 5]\n",
    "last ➞ 6\n",
    "\n",
    "Your task is to unpack the list writeyourcodehere into three variables, being first,\n",
    "middle, and last, with middle being everything in between the first and last element. Then\n",
    "print all three variables."
   ]
  },
  {
   "cell_type": "code",
   "execution_count": 10,
   "metadata": {
    "colab": {
     "base_uri": "https://localhost:8080/"
    },
    "executionInfo": {
     "elapsed": 426,
     "status": "ok",
     "timestamp": 1634222784527,
     "user": {
      "displayName": "Yuno Clover",
      "photoUrl": "https://lh3.googleusercontent.com/a/default-user=s64",
      "userId": "14793961318254159012"
     },
     "user_tz": -330
    },
    "id": "luJq0XYEP1vI",
    "outputId": "095f42a5-76c0-470a-9a73-f95f867f2459"
   },
   "outputs": [
    {
     "name": "stdout",
     "output_type": "stream",
     "text": [
      "Enter a list of values separated by spaces: 1 2 3 4 5 6\n",
      "first ➞ 1\n",
      "middle ➞ [2, 3, 4, 5]\n",
      "last ➞ 6\n"
     ]
    }
   ],
   "source": [
    "def assign_variables_from_list():\n",
    "    user_input = input(\"Enter a list of values separated by spaces: \")\n",
    "    input_list = user_input.split()\n",
    "    \n",
    "    if not input_list:\n",
    "        print(\"Input list is empty.\")\n",
    "        return\n",
    "    \n",
    "    try:\n",
    "        input_list = [int(item) for item in input_list]\n",
    "    except ValueError:\n",
    "        print(\"Input should contain only integers.\")\n",
    "        return\n",
    "    \n",
    "    first = input_list[0]\n",
    "    middle = input_list[1:-1]\n",
    "    last = input_list[-1]\n",
    "    \n",
    "    return first, middle, last\n",
    "\n",
    "first, middle, last = assign_variables_from_list()\n",
    "\n",
    "if first is not None:\n",
    "    print(f\"first ➞ {first}\")\n",
    "if middle:\n",
    "    print(f\"middle ➞ {middle}\")\n",
    "if last is not None:\n",
    "    print(f\"last ➞ {last}\")\n"
   ]
  },
  {
   "cell_type": "markdown",
   "metadata": {
    "id": "JgW7WfXDRRk_"
   },
   "source": [
    "> Q. Write a function that calculates the factorial of a number recursively.\n",
    "Examples\n",
    "factorial(5) ➞ 120\n",
    "factorial(3) ➞ 6\n",
    "factorial(1) ➞ 1\n",
    "factorial(0) ➞ 1"
   ]
  },
  {
   "cell_type": "code",
   "execution_count": 11,
   "metadata": {
    "colab": {
     "base_uri": "https://localhost:8080/"
    },
    "executionInfo": {
     "elapsed": 4073,
     "status": "ok",
     "timestamp": 1634222822507,
     "user": {
      "displayName": "Yuno Clover",
      "photoUrl": "https://lh3.googleusercontent.com/a/default-user=s64",
      "userId": "14793961318254159012"
     },
     "user_tz": -330
    },
    "id": "zrvuZO5yRPvN",
    "outputId": "0eed8351-e846-46ca-abd6-ab7c0b32b0fe"
   },
   "outputs": [
    {
     "name": "stdout",
     "output_type": "stream",
     "text": [
      "enter a number :5\n",
      "Factorial of 5 is 120\n"
     ]
    }
   ],
   "source": [
    "def factorial(n):     \n",
    "    if n == 0:\n",
    "        return 1    \n",
    "    return n * factorial(n-1)\n",
    "\n",
    "num = int(input('enter a number :'))\n",
    "print(\"Factorial of\", num, \"is\", factorial(num))"
   ]
  },
  {
   "cell_type": "markdown",
   "metadata": {
    "id": "MeqeodtuRY70"
   },
   "source": [
    ">Q. Write a function that moves all elements of one type to the end of the list.\n",
    "Examples\n",
    "move_to_end([1, 3, 2, 4, 4, 1], 1) ➞ [3, 2, 4, 4, 1, 1]\n",
    "Move all the 1s to the end of the array.\n",
    "move_to_end([7, 8, 9, 1, 2, 3, 4], 9) ➞ [7, 8, 1, 2, 3, 4, 9]\n",
    "move_to_end(['a', 'a', 'a', 'b'], 'a') ➞ ['b', 'a', 'a', 'a']\n"
   ]
  },
  {
   "cell_type": "code",
   "execution_count": 23,
   "metadata": {
    "executionInfo": {
     "elapsed": 399,
     "status": "ok",
     "timestamp": 1634222885506,
     "user": {
      "displayName": "Yuno Clover",
      "photoUrl": "https://lh3.googleusercontent.com/a/default-user=s64",
      "userId": "14793961318254159012"
     },
     "user_tz": -330
    },
    "id": "HG5gbZrARUGO"
   },
   "outputs": [
    {
     "name": "stdout",
     "output_type": "stream",
     "text": [
      "[3, 2, 4, 4, 1, 1]\n",
      "[7, 8, 1, 2, 3, 4, 9]\n",
      "['b', 'a', 'a', 'a']\n"
     ]
    }
   ],
   "source": [
    "def move_to_end(lst, element):\n",
    "    if element in lst:\n",
    "        count = lst.count(element)\n",
    "        lst = [x for x in lst if x != element]\n",
    "        lst.extend([element] * count)\n",
    "    return lst\n",
    "\n",
    "# Test cases\n",
    "print(move_to_end([1, 3, 2, 4, 4, 1], 1))  \n",
    "print(move_to_end([7, 8, 9, 1, 2, 3, 4], 9))  \n",
    "print(move_to_end(['a', 'a', 'a', 'b'], 'a')) \n"
   ]
  },
  {
   "cell_type": "code",
   "execution_count": null,
   "metadata": {},
   "outputs": [],
   "source": []
  }
 ],
 "metadata": {
  "colab": {
   "authorship_tag": "ABX9TyO+Pm1XqgH2Rcqs6+hP4SF4",
   "name": "Python Basic Programming 18.ipynb",
   "provenance": []
  },
  "kernelspec": {
   "display_name": "Python 3 (ipykernel)",
   "language": "python",
   "name": "python3"
  },
  "language_info": {
   "codemirror_mode": {
    "name": "ipython",
    "version": 3
   },
   "file_extension": ".py",
   "mimetype": "text/x-python",
   "name": "python",
   "nbconvert_exporter": "python",
   "pygments_lexer": "ipython3",
   "version": "3.10.8"
  }
 },
 "nbformat": 4,
 "nbformat_minor": 1
}
