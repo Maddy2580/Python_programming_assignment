{
 "cells": [
  {
   "cell_type": "markdown",
   "metadata": {
    "id": "ii8lj491oYuu"
   },
   "source": [
    "#Python Basic Programming 16"
   ]
  },
  {
   "cell_type": "markdown",
   "metadata": {
    "id": "i3WcwabnoYoM"
   },
   "source": [
    "> Q. Write a function that stutters a word as if someone is struggling to read it. The\n",
    "first two letters are repeated twice with an ellipsis ... and space after each, and then the\n",
    "word is pronounced with a question mark ?.\n",
    "Examples\n",
    "stutter('incredible') ➞ 'in... in... incredible?'\n",
    "stutter('enthusiastic') ➞ 'en... en... enthusiastic?'\n",
    "stutter('outstanding') ➞ 'ou... ou... outstanding?'\n",
    "\n",
    "Hint :- Assume all input is in lower case and at least two characters long."
   ]
  },
  {
   "cell_type": "code",
   "execution_count": 1,
   "metadata": {},
   "outputs": [
    {
     "name": "stdout",
     "output_type": "stream",
     "text": [
      "enter the word:- madhusudan\n",
      "ma...ma...madhusudan?\n"
     ]
    }
   ],
   "source": [
    "def word(x):\n",
    "    return (2*(x[:2]+'...'))+x+'?'\n",
    "a = input(\"enter the word:- \")\n",
    "print(word(a))"
   ]
  },
  {
   "cell_type": "markdown",
   "metadata": {
    "id": "mwaKUfk6ozI4"
   },
   "source": [
    "> Q. Create a function that takes an angle in radians and returns the corresponding\n",
    "angle in degrees rounded to one decimal place.\n",
    "Examples\n",
    "radians_to_degrees(1) ➞ 57.3\n",
    "radians_to_degrees(20) ➞ 1145.9\n",
    "radians_to_degrees(50) ➞ 2864.8"
   ]
  },
  {
   "cell_type": "code",
   "execution_count": 7,
   "metadata": {},
   "outputs": [
    {
     "name": "stdout",
     "output_type": "stream",
     "text": [
      "enter the value in radian:- 1\n",
      "degree =  57.3\n"
     ]
    }
   ],
   "source": [
    "def radtodeg(x):\n",
    "    pi=3.1417\n",
    "    degree=x*(180/pi)\n",
    "    return degree\n",
    "x=float(input(\"enter the value in radian:- \"))\n",
    "a=radtodeg(x)\n",
    "print(\"degree = \",round(a,1))"
   ]
  },
  {
   "cell_type": "markdown",
   "metadata": {
    "id": "Ku86fE4jo8so"
   },
   "source": [
    ">Q. In this challenge, establish if a given integer num is a Curzon number. If 1 plus\n",
    "2 elevated to num is exactly divisible by 1 plus 2 multiplied by num, then num is a Curzon\n",
    "number.\n",
    "Given a non-negative integer num, implement a function that returns True if num is a Curzon\n",
    "number, or False otherwise.\n",
    "Examples\n",
    "is_curzon(5) ➞ True\n",
    "2 ** 5 + 1 = 33\n",
    "2 * 5 + 1 = 11\n",
    "33 is a multiple of 11\n",
    "is_curzon(10) ➞ False\n",
    "2 ** 10 + 1 = 1025\n",
    "2 * 10 + 1 = 21\n",
    "1025 is not a multiple of 21\n",
    "is_curzon(14) ➞ True\n",
    "2 ** 14 + 1 = 16385\n",
    "2 * 14 + 1 = 29\n",
    "16385 is a multiple of 29"
   ]
  },
  {
   "cell_type": "code",
   "execution_count": 10,
   "metadata": {},
   "outputs": [
    {
     "name": "stdout",
     "output_type": "stream",
     "text": [
      "Enter a number:- 5\n",
      "5 is Curzon Number\n"
     ]
    }
   ],
   "source": [
    "def curzon(a):\n",
    "    if a<0:\n",
    "        print(\"enter a positive integer\")\n",
    "    else:\n",
    "        power=product=0\n",
    "\n",
    "        power= (2**a)+1\n",
    "        product=(2*a)+1\n",
    "        if (power%product == 0):\n",
    "            print(n,\"is Curzon Number\")\n",
    "        else:\n",
    "            print(n,\"is not a curzon Number\")\n",
    "\n",
    "n = int(input('Enter a number:- '))\n",
    "curzon(n)"
   ]
  },
  {
   "cell_type": "markdown",
   "metadata": {
    "id": "70kCJDw8pXLw"
   },
   "source": [
    "> Q. Given the side length x find the area of a hexagon.\n",
    "\n",
    "Examples\n",
    "area_of_hexagon(1) ➞ 2.6\n",
    "area_of_hexagon(2) ➞ 10.4\n",
    "area_of_hexagon(3) ➞ 23.4"
   ]
  },
  {
   "cell_type": "code",
   "execution_count": 14,
   "metadata": {
    "colab": {
     "base_uri": "https://localhost:8080/"
    },
    "executionInfo": {
     "elapsed": 8944,
     "status": "ok",
     "timestamp": 1634128497991,
     "user": {
      "displayName": "Yuno Asta",
      "photoUrl": "https://lh3.googleusercontent.com/a/default-user=s64",
      "userId": "00278101329128448900"
     },
     "user_tz": -330
    },
    "id": "DFDmFx7bpTr3",
    "outputId": "c6df07d8-2517-47d4-86fd-348682ac68c2"
   },
   "outputs": [
    {
     "name": "stdout",
     "output_type": "stream",
     "text": [
      "Enter the length : 1\n",
      "2.6\n"
     ]
    }
   ],
   "source": [
    "import math\n",
    "def area_of_hexagon(s):     \n",
    "    return ((3 * math.sqrt(3) * (sideLength * sideLength)) / 2);\n",
    "     \n",
    "\n",
    "sideLength = float(input('Enter the length : '))\n",
    "\n",
    "a=area_of_hexagon(sideLength)\n",
    "print(round(a,1))"
   ]
  },
  {
   "cell_type": "markdown",
   "metadata": {
    "id": "sa42izsppkLh"
   },
   "source": [
    "> Q. Create a function that returns a base-2 (binary) representation of a base-10\n",
    "(decimal) string number. To convert is simple: ((2) means base-2 and (10) means base-10)\n",
    "010101001(2) = 1 + 8 + 32 + 128.\n",
    "Going from right to left, the value of the most right bit is 1, now from that every bit to the left\n",
    "will be x2 the value, value of an 8 bit binary numbers are (256, 128, 64, 32, 16, 8, 4, 2, 1).\n",
    "Examples\n",
    "binary(1) ➞ '1'\n",
    " 1*1 = 1\n",
    "binary(5) ➞ '101'\n",
    "1*1 + 1*4 = 5\n",
    "binary(10) ➞ '1010'\n",
    "1*2 + 1*8 = 10"
   ]
  },
  {
   "cell_type": "code",
   "execution_count": 19,
   "metadata": {},
   "outputs": [
    {
     "name": "stdout",
     "output_type": "stream",
     "text": [
      "enter the value:- 10\n",
      "['0', '1', '10', '11', '100', '101', '110', '111', '1000', '1001']\n"
     ]
    }
   ],
   "source": [
    "def binary(n):\n",
    "    list=[]\n",
    "    for i in range(0,n):\n",
    "         list.append(bin(i).replace(\"0b\",\"\"))\n",
    "    return list\n",
    "\n",
    "n= int(input(\"enter the value:- \"))\n",
    "a=binary(n)\n",
    "print(a)"
   ]
  },
  {
   "cell_type": "code",
   "execution_count": null,
   "metadata": {},
   "outputs": [],
   "source": []
  }
 ],
 "metadata": {
  "colab": {
   "authorship_tag": "ABX9TyM4sM+T9Fvg3kSa2T4Kqx42",
   "name": "Python Basic Programming 16.ipynb",
   "provenance": []
  },
  "kernelspec": {
   "display_name": "Python 3 (ipykernel)",
   "language": "python",
   "name": "python3"
  },
  "language_info": {
   "codemirror_mode": {
    "name": "ipython",
    "version": 3
   },
   "file_extension": ".py",
   "mimetype": "text/x-python",
   "name": "python",
   "nbconvert_exporter": "python",
   "pygments_lexer": "ipython3",
   "version": "3.10.8"
  }
 },
 "nbformat": 4,
 "nbformat_minor": 1
}
