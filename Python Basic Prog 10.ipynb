{
 "cells": [
  {
   "cell_type": "markdown",
   "metadata": {
    "id": "Mvw91rTlWwNh"
   },
   "source": [
    "> Q. Write a Python program to find sum of elements in list?"
   ]
  },
  {
   "cell_type": "code",
   "execution_count": 1,
   "metadata": {
    "colab": {
     "base_uri": "https://localhost:8080/"
    },
    "executionInfo": {
     "elapsed": 195710,
     "status": "ok",
     "timestamp": 1627463380538,
     "user": {
      "displayName": "Yuno Clover",
      "photoUrl": "",
      "userId": "14793961318254159012"
     },
     "user_tz": -330
    },
    "id": "blteTtxgM1EI",
    "outputId": "45d5a601-ff96-4ef1-a566-89b153d187a7"
   },
   "outputs": [
    {
     "name": "stdout",
     "output_type": "stream",
     "text": [
      "enter the values separeated by space: 1 2 3 4 5\n",
      "Sum of elements in the list: 15\n"
     ]
    }
   ],
   "source": [
    "# Function to find the sum of elements in a list\n",
    "def find_sum_of_elements(lst):\n",
    "    total = 0\n",
    "    for element in lst:\n",
    "        total += element\n",
    "    return total\n",
    "\n",
    "a=input(\"enter the values separeated by space: \")\n",
    "my_list = [int(num) for num in a.split()]\n",
    "result = find_sum_of_elements(my_list)\n",
    "print(\"Sum of elements in the list:\", result)"
   ]
  },
  {
   "cell_type": "markdown",
   "metadata": {
    "id": "MNXshQ7RYMhu"
   },
   "source": [
    "> Q. Write a Python program to Multiply all numbers in the list?"
   ]
  },
  {
   "cell_type": "code",
   "execution_count": 2,
   "metadata": {
    "colab": {
     "base_uri": "https://localhost:8080/"
    },
    "executionInfo": {
     "elapsed": 10393,
     "status": "ok",
     "timestamp": 1627463519698,
     "user": {
      "displayName": "Yuno Clover",
      "photoUrl": "",
      "userId": "14793961318254159012"
     },
     "user_tz": -330
    },
    "id": "T5jwlZE4XR3h",
    "outputId": "7d666c0a-d70a-4f4e-bfc9-002d30b6277f"
   },
   "outputs": [
    {
     "name": "stdout",
     "output_type": "stream",
     "text": [
      "enter the values separeated by space: 1 2 3 4 5\n",
      "multiplication of elements in the list: 120\n"
     ]
    }
   ],
   "source": [
    "def find_multiplication_of_elements(lst):\n",
    "    total = 1\n",
    "    for element in lst:\n",
    "        total = total* element\n",
    "    return total\n",
    "\n",
    "a=input(\"enter the values separeated by space: \")\n",
    "my_list = [int(num) for num in a.split()]\n",
    "result = find_multiplication_of_elements(my_list)\n",
    "print(\"multiplication of elements in the list:\", result)"
   ]
  },
  {
   "cell_type": "markdown",
   "metadata": {
    "id": "Zm5V3tlaYsAb"
   },
   "source": [
    "> Q.  Write a Python program to find smallest number in a list?"
   ]
  },
  {
   "cell_type": "code",
   "execution_count": 3,
   "metadata": {
    "colab": {
     "base_uri": "https://localhost:8080/"
    },
    "executionInfo": {
     "elapsed": 14514,
     "status": "ok",
     "timestamp": 1627463577826,
     "user": {
      "displayName": "Yuno Clover",
      "photoUrl": "",
      "userId": "14793961318254159012"
     },
     "user_tz": -330
    },
    "id": "onMlp5ApYmI3",
    "outputId": "8608a403-624d-4eb7-8bbf-46bdd4085029"
   },
   "outputs": [
    {
     "name": "stdout",
     "output_type": "stream",
     "text": [
      "enter the values separeated by space: 1 2 3 4 5 6\n",
      "smallest element in the list: 1\n"
     ]
    }
   ],
   "source": [
    "def find_smallest(lst):\n",
    "    a=lst[0]\n",
    "    for element in lst:\n",
    "        if element<a:\n",
    "            a= element\n",
    "    return a\n",
    "\n",
    "a=input(\"enter the values separeated by space: \")\n",
    "my_list = [int(num) for num in a.split()]\n",
    "result = find_smallest(my_list)\n",
    "print(\"smallest element in the list:\", result)"
   ]
  },
  {
   "cell_type": "markdown",
   "metadata": {
    "id": "C_ECMJdpY6f0"
   },
   "source": [
    "> Q. Write a Python program to find largest number in a list?"
   ]
  },
  {
   "cell_type": "code",
   "execution_count": 4,
   "metadata": {
    "colab": {
     "base_uri": "https://localhost:8080/"
    },
    "executionInfo": {
     "elapsed": 10431,
     "status": "ok",
     "timestamp": 1627463622963,
     "user": {
      "displayName": "Yuno Clover",
      "photoUrl": "",
      "userId": "14793961318254159012"
     },
     "user_tz": -330
    },
    "id": "ySXmLHh-YzTZ",
    "outputId": "54e29b1c-7edd-49bb-bfdb-d71745806296"
   },
   "outputs": [
    {
     "name": "stdout",
     "output_type": "stream",
     "text": [
      "enter the values separeated by space: 1 2 3 5 6 8 9\n",
      "largest element in the list: 9\n"
     ]
    }
   ],
   "source": [
    "def find_largest(lst):\n",
    "    a=lst[0]\n",
    "    for element in lst:\n",
    "        if element>a:\n",
    "            a= element\n",
    "    return a\n",
    "\n",
    "a=input(\"enter the values separeated by space: \")\n",
    "my_list = [int(num) for num in a.split()]\n",
    "result = find_largest(my_list)\n",
    "print(\"largest element in the list:\", result)"
   ]
  },
  {
   "cell_type": "markdown",
   "metadata": {
    "id": "zZCZNL6ZZUoT"
   },
   "source": [
    "> Q.  Write a Python program to find second largest number in a list?"
   ]
  },
  {
   "cell_type": "code",
   "execution_count": 5,
   "metadata": {
    "colab": {
     "base_uri": "https://localhost:8080/"
    },
    "executionInfo": {
     "elapsed": 13443,
     "status": "ok",
     "timestamp": 1627463743432,
     "user": {
      "displayName": "Yuno Clover",
      "photoUrl": "",
      "userId": "14793961318254159012"
     },
     "user_tz": -330
    },
    "id": "Y44nGYTXY_V9",
    "outputId": "b0695f1b-4546-4931-ebb1-698e81d94f2c"
   },
   "outputs": [
    {
     "name": "stdout",
     "output_type": "stream",
     "text": [
      "Enter the values separated by spaces: 1 2 3 5 7 9 6 4\n",
      "Second largest element in the list: 7\n"
     ]
    }
   ],
   "source": [
    "def find_second_largest(lst):\n",
    "    lst.sort()\n",
    "    if len(lst) >= 2:\n",
    "        return lst[-2]\n",
    "    else:\n",
    "        return None \n",
    "\n",
    "a = input(\"Enter the values separated by spaces: \")\n",
    "my_list = [int(num) for num in a.split()]\n",
    "result = find_second_largest(my_list)\n",
    "\n",
    "if result is not None:\n",
    "    print(\"Second largest element in the list:\", result)\n",
    "else:\n",
    "    print(\"There is no second largest element in the list.\")\n"
   ]
  },
  {
   "cell_type": "markdown",
   "metadata": {
    "id": "iIsolZKVZilI"
   },
   "source": [
    "Q. Write a Python program to find N largest elements from a list?"
   ]
  },
  {
   "cell_type": "code",
   "execution_count": 6,
   "metadata": {
    "colab": {
     "base_uri": "https://localhost:8080/"
    },
    "executionInfo": {
     "elapsed": 15319,
     "status": "ok",
     "timestamp": 1627463926638,
     "user": {
      "displayName": "Yuno Clover",
      "photoUrl": "",
      "userId": "14793961318254159012"
     },
     "user_tz": -330
    },
    "id": "zZ6ctk7CZcA4",
    "outputId": "3f474879-da52-4645-f67f-680623a20cba"
   },
   "outputs": [
    {
     "name": "stdout",
     "output_type": "stream",
     "text": [
      "Enter the values separated by spaces: 1 5 8 9 6 4 7\n",
      "Enter the value of N:3\n",
      "The 3 largest elements in the list are: [9, 8, 7]\n"
     ]
    }
   ],
   "source": [
    "def find_n_largest(lst, n):\n",
    "    if n <= 0 or n > len(lst):\n",
    "        return [] \n",
    "    sorted_list = sorted(lst, reverse=True)\n",
    "    return sorted_list[:n]\n",
    "\n",
    "a = input(\"Enter the values separated by spaces: \")\n",
    "my_list = [int(num) for num in a.split()]\n",
    "n = int(input(\"Enter the value of N:\"))\n",
    "\n",
    "result = find_n_largest(my_list, n)\n",
    "\n",
    "if result:\n",
    "    print(f\"The {n} largest elements in the list are: {result}\")\n",
    "else:\n",
    "    print(\"Invalid input for N or an empty list.\")\n"
   ]
  },
  {
   "cell_type": "markdown",
   "metadata": {
    "id": "ca-8uw3QaOiq"
   },
   "source": [
    "> Q. Write a Python program to print even numbers in a list?"
   ]
  },
  {
   "cell_type": "code",
   "execution_count": 7,
   "metadata": {
    "colab": {
     "base_uri": "https://localhost:8080/"
    },
    "executionInfo": {
     "elapsed": 10263,
     "status": "ok",
     "timestamp": 1627464445027,
     "user": {
      "displayName": "Yuno Clover",
      "photoUrl": "",
      "userId": "14793961318254159012"
     },
     "user_tz": -330
    },
    "id": "1s6bYIjVaISG",
    "outputId": "da5b8943-22d7-4d6c-9c63-675f1fa43f19"
   },
   "outputs": [
    {
     "name": "stdout",
     "output_type": "stream",
     "text": [
      "Enter the values separated by spaces: 1 2 3 6 8 4\n",
      "Even numbers in the list: [2, 6, 8, 4]\n"
     ]
    }
   ],
   "source": [
    "def print_even_numbers(lst):\n",
    "    even_numbers = [num for num in lst if num % 2 == 0]\n",
    "    return even_numbers\n",
    "\n",
    "a = input(\"Enter the values separated by spaces: \")\n",
    "my_list = [int(num) for num in a.split()]\n",
    "\n",
    "even_numbers = print_even_numbers(my_list)\n",
    "\n",
    "if even_numbers:\n",
    "    print(\"Even numbers in the list:\", even_numbers)\n",
    "else:\n",
    "    print(\"No even numbers found in the list.\")\n",
    "\n"
   ]
  },
  {
   "cell_type": "markdown",
   "metadata": {
    "id": "Okrip0wCcNMS"
   },
   "source": [
    "> Q. Write a Python program to print odd numbers in a List?"
   ]
  },
  {
   "cell_type": "code",
   "execution_count": 8,
   "metadata": {
    "colab": {
     "base_uri": "https://localhost:8080/"
    },
    "executionInfo": {
     "elapsed": 8918,
     "status": "ok",
     "timestamp": 1627464524393,
     "user": {
      "displayName": "Yuno Clover",
      "photoUrl": "",
      "userId": "14793961318254159012"
     },
     "user_tz": -330
    },
    "id": "lrqkA9LUbKti",
    "outputId": "98a5d7b4-fbb8-459d-9c29-6c134a9e37f1"
   },
   "outputs": [
    {
     "name": "stdout",
     "output_type": "stream",
     "text": [
      "Enter the values separated by spaces: 1 3 5 9 6 2 4 8 7\n",
      "odd numbers in the list: [1, 3, 5, 9, 7]\n"
     ]
    }
   ],
   "source": [
    "def print_odd_numbers(lst):\n",
    "    odd_numbers = [num for num in lst if num % 2 != 0]\n",
    "    return odd_numbers\n",
    "\n",
    "a = input(\"Enter the values separated by spaces: \")\n",
    "my_list = [int(num) for num in a.split()]\n",
    "\n",
    "odd_numbers = print_odd_numbers(my_list)\n",
    "\n",
    "if even_numbers:\n",
    "    print(\"odd numbers in the list:\", odd_numbers)\n",
    "else:\n",
    "    print(\"No odd numbers found in the list.\")"
   ]
  },
  {
   "cell_type": "markdown",
   "metadata": {
    "id": "mXbgkC-mchWl"
   },
   "source": [
    "> Q. Write a Python program to Remove empty List from List?"
   ]
  },
  {
   "cell_type": "code",
   "execution_count": 9,
   "metadata": {
    "colab": {
     "base_uri": "https://localhost:8080/"
    },
    "executionInfo": {
     "elapsed": 607,
     "status": "ok",
     "timestamp": 1627464642451,
     "user": {
      "displayName": "Yuno Clover",
      "photoUrl": "",
      "userId": "14793961318254159012"
     },
     "user_tz": -330
    },
    "id": "ICFuf87QcT5E",
    "outputId": "05e851f3-e3ba-478f-ed07-ca05c14def82"
   },
   "outputs": [
    {
     "name": "stdout",
     "output_type": "stream",
     "text": [
      "The List : [55, [], 14, 75, [], 96, 80, [], 36]\n",
      "The list after removing empty lists : [55, 14, 75, 96, 80, 36]\n"
     ]
    }
   ],
   "source": [
    "lst = [55,[],14,75,[],96,80,[],36]\n",
    "print(\"The List :\",lst)\n",
    "new_list = [item for item in lst if item != []]\n",
    "print(\"The list after removing empty lists :\" , new_list)\n"
   ]
  },
  {
   "cell_type": "markdown",
   "metadata": {
    "id": "jQT6b5JidAd7"
   },
   "source": [
    "> Q. Write a Python program to Cloning or Copying a list?"
   ]
  },
  {
   "cell_type": "code",
   "execution_count": 11,
   "metadata": {
    "colab": {
     "base_uri": "https://localhost:8080/"
    },
    "executionInfo": {
     "elapsed": 9368,
     "status": "ok",
     "timestamp": 1627464864252,
     "user": {
      "displayName": "Yuno Clover",
      "photoUrl": "",
      "userId": "14793961318254159012"
     },
     "user_tz": -330
    },
    "id": "M6RacS-ac6lg",
    "outputId": "c4d34cef-ef54-4a70-8d9e-8334ac2f755b"
   },
   "outputs": [
    {
     "name": "stdout",
     "output_type": "stream",
     "text": [
      "Enter the lenth of your list : 5\n",
      "1\n",
      "2\n",
      "3\n",
      "4\n",
      "5\n",
      "The List is  [1, 2, 3, 4, 5]\n",
      "Cloning By list copying lst  [1, 2, 3, 4, 5]\n"
     ]
    }
   ],
   "source": [
    "n = int(input(\"Enter the lenth of your list : \"))\n",
    "lst = []\n",
    "\n",
    "for i in range(n):\n",
    "    lst.append(int(input()))\n",
    "print(\"The List is \",lst)\n",
    "\n",
    "lst_copy = lst.copy()\n",
    "print(\"Cloning By list copying lst \",lst_copy)"
   ]
  },
  {
   "cell_type": "markdown",
   "metadata": {
    "id": "FYbvHG_id-eM"
   },
   "source": [
    "> Q. Write a Python program to Count occurrences of an element in a list?"
   ]
  },
  {
   "cell_type": "code",
   "execution_count": 12,
   "metadata": {
    "colab": {
     "base_uri": "https://localhost:8080/"
    },
    "executionInfo": {
     "elapsed": 12956,
     "status": "ok",
     "timestamp": 1627465013116,
     "user": {
      "displayName": "Yuno Clover",
      "photoUrl": "",
      "userId": "14793961318254159012"
     },
     "user_tz": -330
    },
    "id": "fBT8gOQhdWEG",
    "outputId": "7fa27e3c-ccf0-4e8a-f7d9-ccbc9b6c68bf"
   },
   "outputs": [
    {
     "name": "stdout",
     "output_type": "stream",
     "text": [
      "Enter the lenth of your list : 3\n",
      "1 \n",
      "2\n",
      "3\n",
      "The List is  [1, 2, 3]\n",
      "Enter the element to find its occurance : 2\n",
      "2 has occured 1 times in the list \n"
     ]
    }
   ],
   "source": [
    "lent = int(input(\"Enter the lenth of your list : \"))\n",
    "lst = []\n",
    "\n",
    "for i in range(lent):\n",
    "    lst.append(int(input()))\n",
    "print(\"The List is \",lst)\n",
    "ele= int(input(\"Enter the element to find its occurance : \"))\n",
    "print(ele,\"has occured {} times in the list \".format(lst.count(ele)))\n"
   ]
  },
  {
   "cell_type": "code",
   "execution_count": null,
   "metadata": {},
   "outputs": [],
   "source": []
  }
 ],
 "metadata": {
  "colab": {
   "authorship_tag": "ABX9TyMxHI4i1WG0bAdNSs41SgB7",
   "collapsed_sections": [],
   "name": "Python Basic Prog 10.ipynb",
   "provenance": []
  },
  "kernelspec": {
   "display_name": "Python 3 (ipykernel)",
   "language": "python",
   "name": "python3"
  },
  "language_info": {
   "codemirror_mode": {
    "name": "ipython",
    "version": 3
   },
   "file_extension": ".py",
   "mimetype": "text/x-python",
   "name": "python",
   "nbconvert_exporter": "python",
   "pygments_lexer": "ipython3",
   "version": "3.10.8"
  }
 },
 "nbformat": 4,
 "nbformat_minor": 1
}
