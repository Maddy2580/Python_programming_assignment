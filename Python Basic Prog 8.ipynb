{
 "cells": [
  {
   "cell_type": "markdown",
   "metadata": {
    "id": "-1Pd0B1XE8m7"
   },
   "source": [
    "# Python Basic Prog 8"
   ]
  },
  {
   "cell_type": "markdown",
   "metadata": {
    "id": "mU2NKxIbFFE9"
   },
   "source": [
    "> Q. Write a Python Program to Add Two Matrices?"
   ]
  },
  {
   "cell_type": "code",
   "execution_count": 3,
   "metadata": {
    "colab": {
     "base_uri": "https://localhost:8080/"
    },
    "executionInfo": {
     "elapsed": 1729,
     "status": "ok",
     "timestamp": 1627458496332,
     "user": {
      "displayName": "Yuno Clover",
      "photoUrl": "",
      "userId": "14793961318254159012"
     },
     "user_tz": -330
    },
    "id": "_arVvEhWEFpA",
    "outputId": "f463b440-16a4-482d-e0e4-0a5cd5a2a9db"
   },
   "outputs": [
    {
     "name": "stdout",
     "output_type": "stream",
     "text": [
      "enter the no. of rows: 3\n",
      "enter the no. of columns: 3\n",
      "enter the element of [0,0]: 1\n",
      "enter the element of [0,1]: 2\n",
      "enter the element of [0,2]: 3\n",
      "enter the element of [1,0]: 4\n",
      "enter the element of [1,1]: 5\n",
      "enter the element of [1,2]: 6\n",
      "enter the element of [2,0]: 7\n",
      "enter the element of [2,1]: 8\n",
      "enter the element of [2,2]: 9\n",
      "enter the number of [0,0]: 9\n",
      "enter the number of [0,1]: 8\n",
      "enter the number of [0,2]: 7\n",
      "enter the number of [1,0]: 6\n",
      "enter the number of [1,1]: 5\n",
      "enter the number of [1,2]: 4\n",
      "enter the number of [2,0]: 3\n",
      "enter the number of [2,1]: 2\n",
      "enter the number of [2,2]: 1\n",
      "[[10. 10. 10.]\n",
      " [10. 10. 10.]\n",
      " [10. 10. 10.]]\n"
     ]
    }
   ],
   "source": [
    "import numpy as np\n",
    "\n",
    "def add_matrics(mat1,mat2):\n",
    "    return np.add(mat1,mat2)\n",
    "\n",
    "def main():\n",
    "    row=int(input(\"enter the no. of rows: \"))\n",
    "    col=int(input(\"enter the no. of columns: \"))\n",
    "    mat1=np.zeros((row,col))\n",
    "    mat2=np.zeros((row,col))\n",
    "    \n",
    "    for i in range(row):\n",
    "        for j in range(col):\n",
    "            mat1[i][j]=int(input(f\"enter the element of [{i},{j}]: \"))\n",
    "    for i in range(row):\n",
    "        for j in range(col):\n",
    "            mat2[i][j]=int(input(f\"enter the number of [{i},{j}]: \"))\n",
    "    \n",
    "    result=add_matrics(mat1,mat2)\n",
    "    print(result)\n",
    "    \n",
    "if __name__ ==\"__main__\":\n",
    "    main()\n",
    "\n"
   ]
  },
  {
   "cell_type": "markdown",
   "metadata": {
    "id": "-_v4PKnwFbxD"
   },
   "source": [
    "> Q. Write a Python Program to Multiply Two Matrices?"
   ]
  },
  {
   "cell_type": "code",
   "execution_count": 6,
   "metadata": {
    "colab": {
     "base_uri": "https://localhost:8080/"
    },
    "executionInfo": {
     "elapsed": 423,
     "status": "ok",
     "timestamp": 1627458577824,
     "user": {
      "displayName": "Yuno Clover",
      "photoUrl": "",
      "userId": "14793961318254159012"
     },
     "user_tz": -330
    },
    "id": "mWYBVCwwFY9r",
    "outputId": "4db2231d-1109-4ae1-90be-ee46b4d3f404"
   },
   "outputs": [
    {
     "name": "stdout",
     "output_type": "stream",
     "text": [
      "enter the no. of rows of matrix 1: 2\n",
      "enter the no. of columns of matrix 1: 3\n",
      "enter the no. of rows of matrix 2: 3\n",
      "enter the no. of columns of matrix 2: 2\n",
      "enter the element of [0,0]: 1\n",
      "enter the element of [0,1]: 2\n",
      "enter the element of [0,2]: 3\n",
      "enter the element of [1,0]: 4\n",
      "enter the element of [1,1]: 5\n",
      "enter the element of [1,2]: 6\n",
      "enter the number of [0,0]: 1\n",
      "enter the number of [0,1]: 2\n",
      "enter the number of [1,0]: 3\n",
      "enter the number of [1,1]: 4\n",
      "enter the number of [2,0]: 5\n",
      "enter the number of [2,1]: 6\n",
      "[[22. 28.]\n",
      " [49. 64.]]\n"
     ]
    }
   ],
   "source": [
    "def multy_matrics(mat1,mat2):\n",
    "    return np.dot(mat1,mat2)\n",
    "\n",
    "\n",
    "row1=int(input(\"enter the no. of rows of matrix 1: \"))\n",
    "col1=int(input(\"enter the no. of columns of matrix 1: \"))\n",
    "\n",
    "row2=int(input(\"enter the no. of rows of matrix 2: \"))\n",
    "col2=int(input(\"enter the no. of columns of matrix 2: \"))\n",
    "\n",
    "if col1 != row2:\n",
    "    print(\"Matrix Multiplication is not possible\")\n",
    "    \n",
    "else:\n",
    "    mat1=np.zeros((row1,col1))\n",
    "    mat2=np.zeros((row2,col2))\n",
    "\n",
    "    for i in range(row1):\n",
    "        for j in range(col1):\n",
    "            mat1[i][j]=int(input(f\"enter the element of [{i},{j}]: \"))\n",
    "    for i in range(row2):\n",
    "        for j in range(col2):\n",
    "            mat2[i][j]=int(input(f\"enter the number of [{i},{j}]: \"))\n",
    "\n",
    "                \n",
    "result=multy_matrics(mat1,mat2)\n",
    "print(result)"
   ]
  },
  {
   "cell_type": "markdown",
   "metadata": {
    "id": "40VzMcD2F192"
   },
   "source": [
    "> Q. Write a Python Program to Transpose a Matrix?"
   ]
  },
  {
   "cell_type": "code",
   "execution_count": 16,
   "metadata": {
    "colab": {
     "base_uri": "https://localhost:8080/"
    },
    "executionInfo": {
     "elapsed": 13304,
     "status": "ok",
     "timestamp": 1627458904003,
     "user": {
      "displayName": "Yuno Clover",
      "photoUrl": "",
      "userId": "14793961318254159012"
     },
     "user_tz": -330
    },
    "id": "JlbAY5QeFyFH",
    "outputId": "a5464adb-c767-47cf-8141-042aa5009241"
   },
   "outputs": [
    {
     "name": "stdout",
     "output_type": "stream",
     "text": [
      "enter the no. of rows: 2\n",
      "enter the no. of columns: 2\n",
      "enter the element of [0,0]: 1\n",
      "enter the element of [0,1]: 2\n",
      "enter the element of [1,0]: 3\n",
      "enter the element of [1,1]: 4\n",
      "[[1. 2.]\n",
      " [3. 4.]]\n",
      "The transposed matrix is:\n",
      "[[1. 3.]\n",
      " [2. 4.]]\n"
     ]
    }
   ],
   "source": [
    "\n",
    "def transpose():\n",
    "    row=int(input(\"enter the no. of rows: \"))\n",
    "    col=int(input(\"enter the no. of columns: \"))\n",
    "    mat=np.zeros((row,col))\n",
    "\n",
    "\n",
    "    for i in range(row):\n",
    "        for j in range(col):\n",
    "            mat[i][j]=int(input(f\"enter the element of [{i},{j}]: \"))\n",
    "    print(mat)\n",
    "    return np.transpose(mat)\n",
    "\n",
    "a=transpose()\n",
    "print(\"The transposed matrix is:\")\n",
    "print(a)"
   ]
  },
  {
   "cell_type": "markdown",
   "metadata": {
    "id": "CVN3HpA2HLTt"
   },
   "source": [
    "> Q. Write a Python Program to Sort Words in Alphabetic Order?"
   ]
  },
  {
   "cell_type": "code",
   "execution_count": 17,
   "metadata": {
    "colab": {
     "base_uri": "https://localhost:8080/"
    },
    "executionInfo": {
     "elapsed": 14032,
     "status": "ok",
     "timestamp": 1627459133409,
     "user": {
      "displayName": "Yuno Clover",
      "photoUrl": "",
      "userId": "14793961318254159012"
     },
     "user_tz": -330
    },
    "id": "E8Km_TmtGT05",
    "outputId": "63151c99-e033-4c0b-df06-c91c3e2ebb2b"
   },
   "outputs": [
    {
     "name": "stdout",
     "output_type": "stream",
     "text": [
      "Enter words separated by spaces: amit madhu saswat akash\n",
      "Words in alphabetical order:\n",
      "akash\n",
      "amit\n",
      "madhu\n",
      "saswat\n"
     ]
    }
   ],
   "source": [
    "def sort_words_alphabetically(words):\n",
    "    return sorted(words)\n",
    "\n",
    "input_str = input(\"Enter words separated by spaces: \")\n",
    "words_list = input_str.split()\n",
    "\n",
    "sorted_words = sort_words_alphabetically(words_list)\n",
    "\n",
    "print(\"Words in alphabetical order:\")\n",
    "for word in sorted_words:\n",
    "    print(word)"
   ]
  },
  {
   "cell_type": "markdown",
   "metadata": {
    "id": "6V9rG7vcIDwt"
   },
   "source": [
    "> Q. Write a Python Program to Remove Punctuation From a String?"
   ]
  },
  {
   "cell_type": "code",
   "execution_count": 18,
   "metadata": {
    "colab": {
     "base_uri": "https://localhost:8080/"
    },
    "executionInfo": {
     "elapsed": 22740,
     "status": "ok",
     "timestamp": 1627459286866,
     "user": {
      "displayName": "Yuno Clover",
      "photoUrl": "",
      "userId": "14793961318254159012"
     },
     "user_tz": -330
    },
    "id": "snNKdCWDHZJZ",
    "outputId": "19f64d0c-b018-4937-8b11-54e8490f7404"
   },
   "outputs": [
    {
     "name": "stdout",
     "output_type": "stream",
     "text": [
      "The cleaned text is:\n",
      "This is a string with punctuation\n"
     ]
    }
   ],
   "source": [
    "import string\n",
    "\n",
    "def remove_punctuation(text):\n",
    "    punctuation = string.punctuation\n",
    "    return ''.join(ch for ch in text if ch not in punctuation)\n",
    "\n",
    "\n",
    "if __name__ == \"__main__\":\n",
    "    text = \"This is a string with, punctuation.\"\n",
    "    cleaned_text = remove_punctuation(text)\n",
    "    print(\"The cleaned text is:\")\n",
    "    print(cleaned_text)"
   ]
  },
  {
   "cell_type": "code",
   "execution_count": null,
   "metadata": {
    "id": "Y8gyNEE_IW67"
   },
   "outputs": [],
   "source": []
  }
 ],
 "metadata": {
  "colab": {
   "authorship_tag": "ABX9TyMxQ8KrcArQvf5t15GpGb0/",
   "collapsed_sections": [],
   "name": "Python Basic Prog 8.ipynb",
   "provenance": []
  },
  "kernelspec": {
   "display_name": "Python 3 (ipykernel)",
   "language": "python",
   "name": "python3"
  },
  "language_info": {
   "codemirror_mode": {
    "name": "ipython",
    "version": 3
   },
   "file_extension": ".py",
   "mimetype": "text/x-python",
   "name": "python",
   "nbconvert_exporter": "python",
   "pygments_lexer": "ipython3",
   "version": "3.10.8"
  }
 },
 "nbformat": 4,
 "nbformat_minor": 1
}
