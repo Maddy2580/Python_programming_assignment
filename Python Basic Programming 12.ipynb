{
 "cells": [
  {
   "cell_type": "markdown",
   "metadata": {
    "id": "ZWrDklzJS3VZ"
   },
   "source": [
    "# Python Basic Programming 12"
   ]
  },
  {
   "cell_type": "markdown",
   "metadata": {
    "id": "yAnDRQ-IT9Zb"
   },
   "source": [
    "> Q. Write a Python program to Extract Unique values dictionary values?"
   ]
  },
  {
   "cell_type": "code",
   "execution_count": 6,
   "metadata": {},
   "outputs": [
    {
     "name": "stdout",
     "output_type": "stream",
     "text": [
      "enter a key or press enter to finish:- 1\n",
      "enter the value: 15\n",
      "enter a key or press enter to finish:- 2\n",
      "enter the value: 15\n",
      "enter a key or press enter to finish:- 3\n",
      "enter the value: 15\n",
      "enter a key or press enter to finish:- 4\n",
      "enter the value: [1,2,3]\n",
      "enter a key or press enter to finish:- \n",
      "unique_values in the dictionary are: ['[1,2,3]', 15]\n"
     ]
    }
   ],
   "source": [
    "def extract_unique_value(dict):\n",
    "    unique_values = set()\n",
    "    for value in dict.values():\n",
    "        if isinstance(value,list):\n",
    "            unique_value.update(value)\n",
    "        else:\n",
    "            unique_values.add(value)\n",
    "    return list(unique_values)\n",
    "\n",
    "my_dict={}\n",
    "while True:\n",
    "    key=input(\"enter a key or press enter to finish:- \")\n",
    "    if not key:\n",
    "        break\n",
    "    value = input(\"enter the value: \")\n",
    "    try:\n",
    "        value=int(value)\n",
    "    except ValueError:\n",
    "        pass\n",
    "    my_dict[key]= value\n",
    "\n",
    "a=extract_unique_value(my_dict)    \n",
    "print(f\"unique_values in the dictionary are: {a}\")"
   ]
  },
  {
   "cell_type": "markdown",
   "metadata": {
    "id": "_FOiwc4AhL-a"
   },
   "source": [
    "> Q. Write a Python program to find the sum of all items in a dictionary?"
   ]
  },
  {
   "cell_type": "code",
   "execution_count": 1,
   "metadata": {
    "colab": {
     "base_uri": "https://localhost:8080/"
    },
    "executionInfo": {
     "elapsed": 489,
     "status": "ok",
     "timestamp": 1633623043484,
     "user": {
      "displayName": "Yuno Asta",
      "photoUrl": "https://lh3.googleusercontent.com/a/default-user=s64",
      "userId": "00278101329128448900"
     },
     "user_tz": -330
    },
    "id": "azbzI-kPhNaB",
    "outputId": "b9099af8-2207-4c56-90b0-bb2f122dbc26"
   },
   "outputs": [
    {
     "name": "stdout",
     "output_type": "stream",
     "text": [
      "Enter a key (or press Enter to finish): 1\n",
      "Enter a value (separate list items with commas if it's a list): 2\n",
      "Enter a key (or press Enter to finish): 2\n",
      "Enter a value (separate list items with commas if it's a list): 1,1,1,1\n",
      "Enter a key (or press Enter to finish): \n",
      "The sum of all items in the dictionary is: 6\n"
     ]
    }
   ],
   "source": [
    "def sum_dict_values(dictionary):\n",
    "    total = 0\n",
    "    for value in dictionary.values():\n",
    "        if isinstance(value, list):\n",
    "            for item in value:\n",
    "                if isinstance(item, int):\n",
    "                    total += item\n",
    "        else:\n",
    "            if isinstance(value, int):\n",
    "                total += value\n",
    "    return total\n",
    "\n",
    "# Initialize an empty dictionary\n",
    "my_dict = {}\n",
    "\n",
    "# Ask the user for key-value pairs until they want to stop\n",
    "while True:\n",
    "    key = input(\"Enter a key (or press Enter to finish): \")\n",
    "    if not key:\n",
    "        break\n",
    "    value = input(\"Enter a value (separate list items with commas if it's a list): \")\n",
    "\n",
    "    # Split value by commas and convert to integers if possible\n",
    "    value = value.split(',')\n",
    "    value = [int(item.strip()) if item.strip().isdigit() else item for item in value]\n",
    "\n",
    "    my_dict[key] = value\n",
    "\n",
    "total_sum = sum_dict_values(my_dict)\n",
    "print(\"The sum of all items in the dictionary is:\", total_sum)\n"
   ]
  },
  {
   "cell_type": "markdown",
   "metadata": {
    "id": "QZl3dUDzhjRp"
   },
   "source": [
    "> Q.Write a Python program to Merging two Dictionaries?"
   ]
  },
  {
   "cell_type": "code",
   "execution_count": 4,
   "metadata": {
    "colab": {
     "base_uri": "https://localhost:8080/"
    },
    "executionInfo": {
     "elapsed": 375,
     "status": "ok",
     "timestamp": 1633623177311,
     "user": {
      "displayName": "Yuno Asta",
      "photoUrl": "https://lh3.googleusercontent.com/a/default-user=s64",
      "userId": "00278101329128448900"
     },
     "user_tz": -330
    },
    "id": "ooSPlQmmhT4Z",
    "outputId": "d3ba4096-8aa3-4b4e-9c49-0f1408c6620b"
   },
   "outputs": [
    {
     "name": "stdout",
     "output_type": "stream",
     "text": [
      "dict a :  {'x': 2, 'y': 3}\n",
      "Dict b :  {'y': 5, 'z': 6}\n",
      "updated dictionary : {'x': 2, 'y': 5, 'z': 6}\n"
     ]
    }
   ],
   "source": [
    "one = { 'x': 2, 'y': 3}\n",
    "two = { 'y': 5, 'z': 6}\n",
    "both = one.copy()\n",
    "both.update(two)\n",
    "print(\"dict a : \", one)\n",
    "print(\"Dict b : \", two)\n",
    "print('updated dictionary : {}'.format(both))"
   ]
  },
  {
   "cell_type": "markdown",
   "metadata": {
    "id": "kBapUatniBUZ"
   },
   "source": [
    "> Q. Write a Python program to convert key-values list to flat dictionary?"
   ]
  },
  {
   "cell_type": "code",
   "execution_count": 5,
   "metadata": {
    "colab": {
     "base_uri": "https://localhost:8080/"
    },
    "executionInfo": {
     "elapsed": 471,
     "status": "ok",
     "timestamp": 1634057517556,
     "user": {
      "displayName": "Yuno Asta",
      "photoUrl": "https://lh3.googleusercontent.com/a/default-user=s64",
      "userId": "00278101329128448900"
     },
     "user_tz": -330
    },
    "id": "Yy9JBBX9hw-m",
    "outputId": "b3465d8c-9deb-43c1-ce3d-a25fbbe8d984"
   },
   "outputs": [
    {
     "name": "stdout",
     "output_type": "stream",
     "text": [
      "The original dictionary is : {'month': [1, 2, 3], 'name': ['Jan', 'Feb', 'March']}\n",
      "Flattened dictionary : {1: 'Jan', 2: 'Feb', 3: 'March'}\n"
     ]
    }
   ],
   "source": [
    "test_dict = {'month' : [1, 2, 3],\n",
    "             'name' : ['Jan', 'Feb', 'March']}\n",
    "  \n",
    "# printing original dictionary\n",
    "print(\"The original dictionary is : \" + str(test_dict))\n",
    "  \n",
    "# Convert key-values list to flat dictionary\n",
    "# Using dict() + zip()\n",
    "res = dict(zip(test_dict['month'], test_dict['name']))\n",
    "  \n",
    "# printing result \n",
    "print(\"Flattened dictionary : \" + str(res))"
   ]
  },
  {
   "cell_type": "code",
   "execution_count": 6,
   "metadata": {},
   "outputs": [
    {
     "name": "stdout",
     "output_type": "stream",
     "text": [
      "Flat Dictionary: {'a': 1, 'b': 2, 'c': 3}\n"
     ]
    }
   ],
   "source": [
    "def list_to_dict(key_value_list):\n",
    "    flat_dict = {}\n",
    "    for i in range(0, len(key_value_list), 2):\n",
    "        key = key_value_list[i]\n",
    "        value = key_value_list[i + 1]\n",
    "        flat_dict[key] = value\n",
    "    return flat_dict\n",
    "\n",
    "# Example key-value list\n",
    "key_value_list = ['a', 1, 'b', 2, 'c', 3]\n",
    "\n",
    "flat_dict = list_to_dict(key_value_list)\n",
    "print(\"Flat Dictionary:\", flat_dict)\n"
   ]
  },
  {
   "cell_type": "markdown",
   "metadata": {
    "id": "hpFDa7xTaxp8"
   },
   "source": [
    "> Q. Write a Python program to insertion at the beginning in OrderedDict?"
   ]
  },
  {
   "cell_type": "code",
   "execution_count": 9,
   "metadata": {
    "colab": {
     "base_uri": "https://localhost:8080/"
    },
    "executionInfo": {
     "elapsed": 553,
     "status": "ok",
     "timestamp": 1634057599465,
     "user": {
      "displayName": "Yuno Asta",
      "photoUrl": "https://lh3.googleusercontent.com/a/default-user=s64",
      "userId": "00278101329128448900"
     },
     "user_tz": -330
    },
    "id": "5n-DtFP7asHN",
    "outputId": "766d6574-b2dd-423b-e171-fefe19bc3fe0"
   },
   "outputs": [
    {
     "name": "stdout",
     "output_type": "stream",
     "text": [
      "Ordered Dictionary  : OrderedDict([('c', '1'), ('a', '2'), ('b', '3')])\n"
     ]
    }
   ],
   "source": [
    "# insertion of items in beginning of ordered dict\n",
    "from collections import OrderedDict\n",
    "  \n",
    "# initialising ordered_dict\n",
    "iniordered_dict = OrderedDict([('a', '2'), ('b', '3')])\n",
    "  \n",
    "# inserting items in starting of dict \n",
    "iniordered_dict.update({'c':'1'})\n",
    "iniordered_dict.move_to_end('c', last = False)\n",
    "  \n",
    "# print result\n",
    "print (\"Ordered Dictionary  : \"+str(iniordered_dict))"
   ]
  },
  {
   "cell_type": "markdown",
   "metadata": {
    "id": "tjdqiRz9bGF-"
   },
   "source": [
    "> Q. Write a Python program to check order of character in string using OrderedDict()?"
   ]
  },
  {
   "cell_type": "code",
   "execution_count": 5,
   "metadata": {
    "colab": {
     "base_uri": "https://localhost:8080/"
    },
    "executionInfo": {
     "elapsed": 22083,
     "status": "ok",
     "timestamp": 1634057660552,
     "user": {
      "displayName": "Yuno Asta",
      "photoUrl": "https://lh3.googleusercontent.com/a/default-user=s64",
      "userId": "00278101329128448900"
     },
     "user_tz": -330
    },
    "id": "Bzdyrb0na3nk",
    "outputId": "1bf42ee3-be10-43fa-d809-e1baed08b732"
   },
   "outputs": [
    {
     "name": "stdout",
     "output_type": "stream",
     "text": [
      "enter string : shiva\n",
      "Enter Pattern : va\n",
      "OrderedDict([('s', None), ('h', None), ('i', None), ('v', None), ('a', None)])\n",
      "Pattern matched\n"
     ]
    }
   ],
   "source": [
    "from collections import OrderedDict \n",
    "  \n",
    "def checkOrderofString(str, pattern): \n",
    "      \n",
    "    # create empty OrderedDict \n",
    "    dict = OrderedDict.fromkeys(str) \n",
    "    print(dict)   \n",
    "    ptrlen = 0\n",
    "    for key,value in dict.items(): \n",
    "        \n",
    "        if (key == pattern[ptrlen]): \n",
    "            ptrlen = ptrlen + 1\n",
    "          \n",
    "        # check if we have traverse complete pattern string \n",
    "        if (ptrlen == (len(pattern))):            \n",
    "            return 'true'\n",
    "  \n",
    "    # if we come out from for loop that means order was mismatched \n",
    "    return 'false'\n",
    "  \n",
    "\n",
    "string = input(\"enter string : \")\n",
    "pattern = input(\"Enter Pattern : \")\n",
    "if checkOrderofString(string,pattern):\n",
    "    print(\"Pattern matched\")\n",
    "else:\n",
    "    print(\"Pattern not matched\")"
   ]
  },
  {
   "cell_type": "markdown",
   "metadata": {
    "id": "QqdkeEiFbVso"
   },
   "source": [
    "> Q.Write a Python program to sort Python Dictionaries by Key or Value?"
   ]
  },
  {
   "cell_type": "code",
   "execution_count": 10,
   "metadata": {
    "colab": {
     "base_uri": "https://localhost:8080/"
    },
    "executionInfo": {
     "elapsed": 12,
     "status": "ok",
     "timestamp": 1634057970519,
     "user": {
      "displayName": "Yuno Asta",
      "photoUrl": "https://lh3.googleusercontent.com/a/default-user=s64",
      "userId": "00278101329128448900"
     },
     "user_tz": -330
    },
    "id": "SJ1e3dvtbM-T",
    "outputId": "269ad67a-dcbc-4360-e140-eb38256722e0"
   },
   "outputs": [
    {
     "name": "stdout",
     "output_type": "stream",
     "text": [
      "Sorted dictionary by keys:\n",
      "{'apple': 3, 'banana': 2, 'cherry': 5, 'date': 1, 'fig': 4}\n",
      "\n",
      "Sorted dictionary by values:\n",
      "{'date': 1, 'banana': 2, 'apple': 3, 'fig': 4, 'cherry': 5}\n"
     ]
    }
   ],
   "source": [
    "my_dict = {'apple': 3, 'banana': 2, 'cherry': 5, 'date': 1, 'fig': 4}\n",
    "\n",
    "sorted_dict_by_keys = dict(sorted(my_dict.items()))\n",
    "print(\"Sorted dictionary by keys:\")\n",
    "print(sorted_dict_by_keys)\n",
    "\n",
    "sorted_dict_by_values = dict(sorted(my_dict.items(), key=lambda item: item[1]))\n",
    "print(\"\\nSorted dictionary by values:\")\n",
    "print(sorted_dict_by_values)\n"
   ]
  },
  {
   "cell_type": "code",
   "execution_count": null,
   "metadata": {
    "id": "7sGVhJJQcvXN"
   },
   "outputs": [],
   "source": []
  }
 ],
 "metadata": {
  "colab": {
   "authorship_tag": "ABX9TyMwwqgiEsmjaE9yprV+rP0J",
   "name": "Python Basic Programming 12.ipynb",
   "provenance": []
  },
  "kernelspec": {
   "display_name": "Python 3 (ipykernel)",
   "language": "python",
   "name": "python3"
  },
  "language_info": {
   "codemirror_mode": {
    "name": "ipython",
    "version": 3
   },
   "file_extension": ".py",
   "mimetype": "text/x-python",
   "name": "python",
   "nbconvert_exporter": "python",
   "pygments_lexer": "ipython3",
   "version": "3.10.8"
  }
 },
 "nbformat": 4,
 "nbformat_minor": 1
}
