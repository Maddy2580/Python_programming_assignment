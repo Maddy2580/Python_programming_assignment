{
 "cells": [
  {
   "cell_type": "markdown",
   "metadata": {
    "id": "MD8QERCaGzTF"
   },
   "source": [
    "#  Python Basic Programming 20"
   ]
  },
  {
   "cell_type": "markdown",
   "metadata": {
    "id": "GTA4Svy8G3aI"
   },
   "source": [
    "> Q. Create a function that takes a list of strings and integers, and filters out the list so that it\n",
    "returns a list of integers only.\n",
    "Examples\n",
    "filter_list([1, 2, 3, 'a', 'b', 4]) ➞ [1, 2, 3, 4]\n",
    "filter_list(['A', 0, 'Edabit', 1729, 'Python', '1729']) ➞ [0, 1729]\n",
    "filter_list(['Nothing', 'here']) ➞ []"
   ]
  },
  {
   "cell_type": "code",
   "execution_count": 4,
   "metadata": {},
   "outputs": [
    {
     "name": "stdout",
     "output_type": "stream",
     "text": [
      "[1, 2, 3, 4]\n",
      "[0, 1729]\n",
      "[]\n"
     ]
    }
   ],
   "source": [
    "def filter_list(lst):\n",
    "    lists=[]\n",
    "    for i in lst:\n",
    "        if isinstance(i,int):\n",
    "            lists.append(i)\n",
    "    return lists\n",
    "print(filter_list([1, 2, 3, 'a', 'b', 4]))\n",
    "print(filter_list(['A', 0, 'Edabit', 1729, 'Python', '1729']))\n",
    "print(filter_list(['Nothing', 'here']))"
   ]
  },
  {
   "cell_type": "markdown",
   "metadata": {
    "id": "_F_uWHwcHbHT"
   },
   "source": [
    "> Q. Given a list of numbers, create a function which returns the list but with each element's\n",
    "index in the list added to itself. This means you add 0 to the number at index 0, add 1 to the\n",
    "number at index 1, etc...\n",
    "Examples\n",
    "add_indexes([0, 0, 0, 0, 0]) ➞ [0, 1, 2, 3, 4]\n",
    "add_indexes([1, 2, 3, 4, 5]) ➞ [1, 3, 5, 7, 9]\n",
    "add_indexes([5, 4, 3, 2, 1]) ➞ [5, 5, 5, 5, 5]"
   ]
  },
  {
   "cell_type": "code",
   "execution_count": 9,
   "metadata": {},
   "outputs": [
    {
     "name": "stdout",
     "output_type": "stream",
     "text": [
      "[0, 1, 2, 3, 4]\n",
      "[1, 3, 5, 7, 9]\n",
      "[5, 5, 5, 5, 5]\n"
     ]
    }
   ],
   "source": [
    "def add_indexes(lst):\n",
    "    index=[]\n",
    "    for i in range(len(lst)):\n",
    "        index.append(lst[i]+i)\n",
    "    return index\n",
    "\n",
    "print(add_indexes([0, 0, 0, 0, 0]))\n",
    "print(add_indexes([1, 2, 3, 4, 5]))\n",
    "print(add_indexes([5, 4, 3, 2, 1]))"
   ]
  },
  {
   "cell_type": "markdown",
   "metadata": {
    "id": "qUuqyfIeHpFl"
   },
   "source": [
    ">Q. Create a function that takes the height and radius of a cone as arguments and returns the\n",
    "volume of the cone rounded to the nearest hundredth. See the resources tab for the formula.\n",
    "\n",
    "Examples\n",
    "cone_volume(3, 2) ➞ 12.57\n",
    "\n",
    "cone_volume(15, 6) ➞ 565.49\n",
    "cone_volume(18, 0) ➞ 0"
   ]
  },
  {
   "cell_type": "code",
   "execution_count": 11,
   "metadata": {
    "colab": {
     "base_uri": "https://localhost:8080/"
    },
    "executionInfo": {
     "elapsed": 561,
     "status": "ok",
     "timestamp": 1634455641642,
     "user": {
      "displayName": "Yuno Clover",
      "photoUrl": "https://lh3.googleusercontent.com/a/default-user=s64",
      "userId": "14793961318254159012"
     },
     "user_tz": -330
    },
    "id": "k7DSuODmHmGv",
    "outputId": "4cd1bade-9629-4881-b907-2826b0a722af"
   },
   "outputs": [
    {
     "name": "stdout",
     "output_type": "stream",
     "text": [
      "Volume Of Cone :  565\n",
      "Volume Of Cone :  13\n",
      "Volume Of Cone :  0\n"
     ]
    }
   ],
   "source": [
    "import math\n",
    "pi = math.pi\n",
    " \n",
    "# calculate Volume of Cone\n",
    "def cone_volume(h, r):\n",
    "    return round((1 / 3) * pi * r * r * h)\n",
    " \n",
    "\n",
    "\n",
    "\n",
    "height = float(15)\n",
    "radius = float(6)\n",
    "\n",
    "print( \"Volume Of Cone : \", cone_volume(height, radius) )\n",
    "print( \"Volume Of Cone : \", cone_volume(3, 2))\n",
    "print( \"Volume Of Cone : \", cone_volume(18, 0) )"
   ]
  },
  {
   "cell_type": "markdown",
   "metadata": {
    "id": "TfSkR0oTKLna"
   },
   "source": [
    ">Q.This Triangular Number Sequence is generated from a pattern of dots that form a triangle.\n",
    "The first 5 numbers of the sequence, or dots, are:\n",
    "1, 3, 6, 10, 15\n",
    "This means that the first triangle has just one dot, the second one has three dots, the third one\n",
    "has 6 dots and so on.\n",
    "Write a function that gives the number of dots with its corresponding triangle number of the\n",
    "sequence.\n",
    "Examples\n",
    "triangle(1) ➞ 1\n",
    "triangle(6) ➞ 21\n",
    "triangle(215) ➞ 23220\n",
    "A Rule\n",
    "We can make a \"Rule\" so we can calculate any triangular number.\n",
    "\n",
    "First, rearrange the dots like this:\n",
    "\n",
    "triangular numbers 1 to 5\n",
    "\n",
    "Then double the number of dots, and form them into a rectangle:\n",
    "\n",
    "triangular numbers when doubled become n by n+1 rectangles\n",
    "\n",
    "Now it is easy to work out how many dots: just multiply n by n+1"
   ]
  },
  {
   "cell_type": "code",
   "execution_count": 13,
   "metadata": {
    "colab": {
     "base_uri": "https://localhost:8080/"
    },
    "executionInfo": {
     "elapsed": 2571,
     "status": "ok",
     "timestamp": 1634455907362,
     "user": {
      "displayName": "Yuno Clover",
      "photoUrl": "https://lh3.googleusercontent.com/a/default-user=s64",
      "userId": "14793961318254159012"
     },
     "user_tz": -330
    },
    "id": "PleO_DbQKPI2",
    "outputId": "3928bf55-740a-4755-c516-e53f30e48df7"
   },
   "outputs": [
    {
     "name": "stdout",
     "output_type": "stream",
     "text": [
      "1\n",
      "21\n",
      "23220\n"
     ]
    }
   ],
   "source": [
    "def triangle(n):\n",
    "    return n * (n + 1) // 2\n",
    "\n",
    "# Test cases\n",
    "print(triangle(1))   # Output: 1\n",
    "print(triangle(6))   # Output: 21\n",
    "print(triangle(215)) # Output: 23220\n"
   ]
  },
  {
   "cell_type": "markdown",
   "metadata": {
    "id": "M7kTraFQKhlZ"
   },
   "source": [
    "> Q. Create a function that takes a list of numbers between 1 and 10 (excluding one number) and\n",
    "returns the missing number.\n",
    "Examples\n",
    "missing_num([1, 2, 3, 4, 6, 7, 8, 9, 10]) ➞ 5\n",
    "missing_num([7, 2, 3, 6, 5, 9, 1, 4, 8]) ➞ 10\n",
    "missing_num([10, 5, 1, 2, 4, 6, 8, 3, 9]) ➞ 7"
   ]
  },
  {
   "cell_type": "code",
   "execution_count": 15,
   "metadata": {},
   "outputs": [
    {
     "name": "stdout",
     "output_type": "stream",
     "text": [
      "5\n",
      "10\n",
      "7\n"
     ]
    }
   ],
   "source": [
    "def missing_num(lst):\n",
    "    total=sum([x for x in range(11)])\n",
    "    sum_of_list=sum(lst)\n",
    "    return total-sum_of_list\n",
    "\n",
    "print(missing_num([1, 2, 3, 4, 6, 7, 8, 9, 10]))\n",
    "print(missing_num([7, 2, 3, 6, 5, 9, 1, 4, 8]))\n",
    "print(missing_num([10, 5, 1, 2, 4, 6, 8, 3, 9]))"
   ]
  },
  {
   "cell_type": "code",
   "execution_count": null,
   "metadata": {
    "id": "4IBugATwK5oB"
   },
   "outputs": [],
   "source": []
  }
 ],
 "metadata": {
  "colab": {
   "authorship_tag": "ABX9TyPb/326pa7xnEXRJLkAiVYw",
   "collapsed_sections": [],
   "name": " Python Basic Programming 20.ipynb",
   "provenance": []
  },
  "kernelspec": {
   "display_name": "Python 3 (ipykernel)",
   "language": "python",
   "name": "python3"
  },
  "language_info": {
   "codemirror_mode": {
    "name": "ipython",
    "version": 3
   },
   "file_extension": ".py",
   "mimetype": "text/x-python",
   "name": "python",
   "nbconvert_exporter": "python",
   "pygments_lexer": "ipython3",
   "version": "3.10.8"
  }
 },
 "nbformat": 4,
 "nbformat_minor": 1
}
